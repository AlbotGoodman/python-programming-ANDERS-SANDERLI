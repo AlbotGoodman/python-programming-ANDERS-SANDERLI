{
 "cells": [
  {
   "cell_type": "markdown",
   "metadata": {},
   "source": [
    "# Objektsorientering  \n",
    "\n",
    "Eftersom python är dynamiskt har vi inte tillgång till typer på samma sätt. Vi har däremot klasser så vi kan definiera våra egna typer. Vad allt handlar om är storleken på minnesarean. Om vi har ett tal som tar upp 64 bitar så vill vi inte kunna skriva till den 65:e biten, buffer overflow. \n",
    "\n",
    "T ex numbers är en klass i python. Underklasser är integers och floats. De får arv från numbers. \n",
    "\n",
    "Allt i python är egentligen dictionaries för att högsta klassen som finns är objects som allt ärver ifrån och det är en dict. "
   ]
  },
  {
   "cell_type": "code",
   "execution_count": 4,
   "metadata": {},
   "outputs": [
    {
     "name": "stdout",
     "output_type": "stream",
     "text": [
      "<class '__main__.Student'>\n",
      "True\n",
      "True\n",
      "0x7f2846f8e0e0\n",
      "0x7f2846f8f5b0\n"
     ]
    },
    {
     "data": {
      "text/plain": [
       "<__main__.Student at 0x7f2846f8e0e0>"
      ]
     },
     "execution_count": 4,
     "metadata": {},
     "output_type": "execute_result"
    }
   ],
   "source": [
    "class Student:          # du kan skriva t ex Student(String) så kommer Student ärva alla egenskaper från String\n",
    "    pass                # skriver du ingenting så ärver den från Object\n",
    "\n",
    "s1 = Student()          # varje objekt av en klass är en instans\n",
    "print(type(s1))\n",
    "\n",
    "s2 = Student()\n",
    "print(isinstance(s1, Student))\n",
    "print(isinstance(s2, Student))\n",
    "\n",
    "print(hex(id(s1)))      # id refererar till minnesarean\n",
    "print(hex(id(s2)))      # de kommer vara snarlika varandra, det betyder att de ligger nära varandra\n",
    "\n",
    "s1"
   ]
  },
  {
   "cell_type": "code",
   "execution_count": 9,
   "metadata": {},
   "outputs": [
    {
     "name": "stdout",
     "output_type": "stream",
     "text": [
      "Ada\n",
      "{'name': 'Ada'}\n",
      "{'__module__': '__main__', '__dict__': <attribute '__dict__' of 'Student' objects>, '__weakref__': <attribute '__weakref__' of 'Student' objects>, '__doc__': None}\n",
      "'Student' object has no attribute 'name'\n"
     ]
    }
   ],
   "source": [
    "s1.name = \"Ada\"         # nu definierar vi ett nytt fält\n",
    "print(s1.name)          # klassen påverkas alltså inte, bara själva instansen\n",
    "\n",
    "print(s1.__dict__)\n",
    "print(Student.__dict__)\n",
    "\n",
    "try:\n",
    "    print(s2.name)\n",
    "except AttributeError as err:\n",
    "    print(err)"
   ]
  },
  {
   "cell_type": "markdown",
   "metadata": {},
   "source": [
    "Undvik gärna att göra som ovan för att det blir rörigt i koden. Klassen påverkas som sagt aldrig. "
   ]
  },
  {
   "cell_type": "code",
   "execution_count": 16,
   "metadata": {},
   "outputs": [
    {
     "name": "stdout",
     "output_type": "stream",
     "text": [
      "<function Student.study at 0x7f2845a24e50>\n",
      "Ada\n",
      "<bound method Student.study of <__main__.Student object at 0x7f2845b66350>>\n",
      "Ada is studying\n",
      "Ada is studying\n"
     ]
    }
   ],
   "source": [
    "class Student:\n",
    "    def __init__(self, name):               # en konstruktor\n",
    "        self.name = name\n",
    "    def study(self):                        # study är ett attribut\n",
    "        return f\"{self.name} is studying\"\n",
    "\n",
    "print(Student.study)\n",
    "\n",
    "s1 = Student(\"Ada\")                         # när vi instanserar gör vi en kopia av mallen och sätter i ett objekt/minnesarea\n",
    "print(s1.name)\n",
    "print(s1.study)\n",
    "\n",
    "print(s1.study())                           # vi ersätter alltså self med det objektet som står innan punkten\n",
    "print(Student.study(s1))                    # detta är vad vi egentligen skriver men ovan är att föredra"
   ]
  },
  {
   "cell_type": "markdown",
   "metadata": {},
   "source": [
    "Egentligen finns det ingen anledning till att göra som vi gör ovan. Spara det i en dict i stället så är det mycket snabbare. "
   ]
  },
  {
   "cell_type": "code",
   "execution_count": 18,
   "metadata": {},
   "outputs": [
    {
     "name": "stdout",
     "output_type": "stream",
     "text": [
      "<class '__main__.Rabbit'>\n"
     ]
    },
    {
     "data": {
      "text/plain": [
       "({'name': 'Minihopp'}, {'name': 'Lille-Skutt'})"
      ]
     },
     "execution_count": 18,
     "metadata": {},
     "output_type": "execute_result"
    }
   ],
   "source": [
    "# namespaces\n",
    "\n",
    "class Rabbit:\n",
    "    eyes = 2                # detta kallas static/class variable. denna delas med alla instanser av klasserna\n",
    "    nose = 1\n",
    "    has_tail = True\n",
    "\n",
    "    def __init__(self, name):       # dessa ingår inte i den statiska kontexten. alltså klassen i stort?\n",
    "        self.name = name\n",
    "    \n",
    "    def binky(self):\n",
    "        print(f\"{self.name} är glad och skuttar\")\n",
    "\n",
    "rabbit1 = Rabbit(\"Minihopp\")\n",
    "rabbit2 = Rabbit(\"Lille-Skutt\")\n",
    "\n",
    "print(type(rabbit1))\n",
    "\n",
    "rabbit1.__dict__, rabbit2.__dict__              # här ser vi att instanserna bara har namnen, inte övriga attribut"
   ]
  },
  {
   "cell_type": "code",
   "execution_count": 25,
   "metadata": {},
   "outputs": [
    {
     "name": "stdout",
     "output_type": "stream",
     "text": [
      "type object 'Rabbit' has no attribute 'name'\n",
      "2\n",
      "1\n",
      "1\n",
      "{'name': 'Lille-Skutt', 'eyes': 1}\n",
      "1\n"
     ]
    }
   ],
   "source": [
    "try:\n",
    "    print(Rabbit.name)\n",
    "except AttributeError as err:\n",
    "    print(err)\n",
    "\n",
    "Rabbit(\"Nina Kanin\").name\n",
    "\n",
    "print(rabbit1.eyes)\n",
    "print(rabbit2.eyes)\n",
    "rabbit2.eyes = 1\n",
    "print(rabbit2.eyes)\n",
    "\n",
    "print(rabbit2.__dict__)\n",
    "\n",
    "Rabbit.eyes = 3             # denna påverkar alltså inte de enskilda ändringarna\n",
    "\n",
    "print(rabbit2.eyes)"
   ]
  }
 ],
 "metadata": {
  "kernelspec": {
   "display_name": ".venv",
   "language": "python",
   "name": "python3"
  },
  "language_info": {
   "codemirror_mode": {
    "name": "ipython",
    "version": 3
   },
   "file_extension": ".py",
   "mimetype": "text/x-python",
   "name": "python",
   "nbconvert_exporter": "python",
   "pygments_lexer": "ipython3",
   "version": "3.10.12"
  }
 },
 "nbformat": 4,
 "nbformat_minor": 2
}
