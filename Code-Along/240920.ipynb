{
 "cells": [
  {
   "cell_type": "markdown",
   "metadata": {},
   "source": [
    "# Outro från föregående föreläsning  \n",
    "\n",
    "Den som lanserar en AI-produkt är den som är ansvarig för vad den gör. Så ser det åtminstone ut att bli, just nu. Långt ifrån ännu så vi får se. \n",
    "\n",
    "I allmänhet i python skriver vi kod genom att anropa färdiga moduler som tensorflow, sklearn. "
   ]
  },
  {
   "cell_type": "markdown",
   "metadata": {},
   "source": [
    "# Error handling  \n",
    "\n",
    "Funktionsanrop läggs på en stack. Det är det som menas med \"traceback most recent call last\". \n",
    "\n",
    "Vi har syntax error, logiska fel och ...\n",
    "\n",
    "Syntax kan vara att vi stavar fel på print() och får t ex NameError\n",
    "Logiska fel kan inte ens dagens AI upptäcka. Koden fungerar men kanske ger fel svar än tänkt, om vi glömt en variabel eller liknande. \n",
    "\n",
    "Du kan t ex använda try, except och raise. Så raise innebär att kasta ett fel och vi fångar dem med try (eller except?). "
   ]
  },
  {
   "cell_type": "code",
   "execution_count": 1,
   "metadata": {},
   "outputs": [
    {
     "name": "stdout",
     "output_type": "stream",
     "text": [
      "Åldern måste vara mellan 0 och 125\n"
     ]
    }
   ],
   "source": [
    "age = input(\"Ange din ålder: \")\n",
    "\n",
    "try: \n",
    "    age = float(age)\n",
    "    if not 0<=age<=125:\n",
    "        raise ValueError(\"Åldern måste vara mellan 0 och 125\")\n",
    "    print(f\"Du är {age}\")\n",
    "except ValueError as err:\n",
    "    print(err)"
   ]
  },
  {
   "cell_type": "markdown",
   "metadata": {},
   "source": [
    "Ovan syntax gör att koden kommer fortsätta exekveras och kraschar inte eftersom vi har hanterat felet. "
   ]
  },
  {
   "cell_type": "code",
   "execution_count": 2,
   "metadata": {},
   "outputs": [
    {
     "name": "stdout",
     "output_type": "stream",
     "text": [
      "1 2\n"
     ]
    },
    {
     "ename": "ValueError",
     "evalue": "",
     "output_type": "error",
     "traceback": [
      "\u001b[0;31m---------------------------------------------------------------------------\u001b[0m",
      "\u001b[0;31mValueError\u001b[0m                                Traceback (most recent call last)",
      "Cell \u001b[0;32mIn[2], line 10\u001b[0m\n\u001b[1;32m      6\u001b[0m \u001b[38;5;28;01mdef\u001b[39;00m \u001b[38;5;21msecond_function\u001b[39m(a, b):\n\u001b[1;32m      7\u001b[0m     my_function(a, b)\n\u001b[0;32m---> 10\u001b[0m \u001b[43msecond_function\u001b[49m\u001b[43m(\u001b[49m\u001b[38;5;241;43m1\u001b[39;49m\u001b[43m,\u001b[49m\u001b[43m \u001b[49m\u001b[38;5;241;43m2\u001b[39;49m\u001b[43m)\u001b[49m\n",
      "Cell \u001b[0;32mIn[2], line 7\u001b[0m, in \u001b[0;36msecond_function\u001b[0;34m(a, b)\u001b[0m\n\u001b[1;32m      6\u001b[0m \u001b[38;5;28;01mdef\u001b[39;00m \u001b[38;5;21msecond_function\u001b[39m(a, b):\n\u001b[0;32m----> 7\u001b[0m     \u001b[43mmy_function\u001b[49m\u001b[43m(\u001b[49m\u001b[43ma\u001b[49m\u001b[43m,\u001b[49m\u001b[43m \u001b[49m\u001b[43mb\u001b[49m\u001b[43m)\u001b[49m\n",
      "Cell \u001b[0;32mIn[2], line 3\u001b[0m, in \u001b[0;36mmy_function\u001b[0;34m(a, b)\u001b[0m\n\u001b[1;32m      1\u001b[0m \u001b[38;5;28;01mdef\u001b[39;00m \u001b[38;5;21mmy_function\u001b[39m(a, b):\n\u001b[1;32m      2\u001b[0m     \u001b[38;5;28mprint\u001b[39m(a, b)\n\u001b[0;32m----> 3\u001b[0m     \u001b[38;5;28;01mraise\u001b[39;00m \u001b[38;5;167;01mValueError\u001b[39;00m\n",
      "\u001b[0;31mValueError\u001b[0m: "
     ]
    }
   ],
   "source": [
    "# Exempel på \"stack on rolling\"\n",
    "\n",
    "\n",
    "def my_function(a, b):\n",
    "    print(a, b)\n",
    "    raise ValueError\n",
    "\n",
    "\n",
    "def second_function(a, b):\n",
    "    my_function(a, b)           # denna stack kommer att slängas när funktionen är klar, bara om vi har en return så kommer det att sparas men då i ny variabel\n",
    "                                # ... det blir alltså kopior\n",
    "\n",
    "second_function(1, 2)"
   ]
  },
  {
   "cell_type": "markdown",
   "metadata": {},
   "source": [
    "np.linspace() är ungefär samma som range() fast med reella tal. \n",
    "\n",
    "Kika lite mer på lambda-funktioner. "
   ]
  },
  {
   "cell_type": "markdown",
   "metadata": {},
   "source": [
    "# PROGRAMmering\n",
    "\n",
    "Hur ser datan ut? Vad ska vi göra med den? Det som ska driva oss är vad slutmålet är. \n",
    "\n",
    "Programmering är egentligen en kombination av \"big ideas\" från föregående föreläsning. Det som skiljer program från kod är att det finns ett definierat tillstånd, dvs då programmet körs och fungerar, normaltillståndet. \n",
    "\n",
    "## Logic\n",
    "\n",
    "Handlar framförallt om flödeskontroll, t ex if elif else. \n",
    "\n",
    "### Boolean logic\n",
    "\n",
    "I boolsk logik (boolean logic) har vi bara två värden, True (1) eller False (0). Finns någon som heter linjär logik, fuzzy logic (används i maskininlärning, det finns alltså reella tal emellan 0 och 1). Vi använder mängdlära för att förstå boolsk logik. Vi måste kunna avgöra om något är sant eller falskt. Vi behöver alltså en valideringsfunktion (valuation function). \n",
    "\n",
    "Operators:  \n",
    "<, > (numbers)  \n",
    "a AND b (a, b are booleans)  \n",
    "a OR b  \n",
    "a XOR b  \n",
    "a IMPL b  \n",
    "a EQ b  \n",
    "\n",
    "\n",
    "|OP | a | b | output |\n",
    "|---|---|---|--------|\n",
    "|AND| F | F | F |\n",
    "|AND| T | F | F |\n",
    "|AND| F | T | F |\n",
    "|AND| T | T | T |  \n",
    "\n",
    "## Symbols are data  \n",
    "\n",
    "MSB most significant bit står först. Vi läser från höger. \n",
    "\n",
    "| 1 | 0 | 1 |           # binärt tal\n",
    "\n",
    "1 * 2⁰ + 0 * 2¹ + 1 * 2² = 5 \n",
    "\n",
    "65 (decimal):\n",
    "    ASCII (65) = \"A\"        \n",
    "\n",
    "Här finns en tabell i datorn och \"A\" är en glyph. Ett annat sätt att representera det på. I dag använder vi däremot UNICODE. \n"
   ]
  },
  {
   "cell_type": "markdown",
   "metadata": {},
   "source": [
    "Unlike mathematics, in programming, functions have _contexts_.  \n",
    "\n",
    "De agerar på tillstånd och kan ändra saker i sin omgivning. \n",
    "\n",
    "Vi utvärderar den bara för sina sidoeffekter. T ex om vi har en funktion där vi inte skickar in värden och får inga värden tillbaka, då är det en procedur. Detta är imperativ programmering. Imperativa språk är som python där vi har en fil som exekverar rad för rad och varje rad modifierar tillståndet (omgivningen). Varje rad ändrar på något. \n",
    "\n",
    "I funktionella språk får vi inte använda sidoeffekter. Då hade vi varit tvugna att tilldela en funktion ett argument. Den paradigm som är mer relevant för python är objektsorienterad rpogrammering. \n",
    "\n",
    "Procedurell programmering returnerar nästan aldrig några värden. "
   ]
  }
 ],
 "metadata": {
  "kernelspec": {
   "display_name": ".venv",
   "language": "python",
   "name": "python3"
  },
  "language_info": {
   "codemirror_mode": {
    "name": "ipython",
    "version": 3
   },
   "file_extension": ".py",
   "mimetype": "text/x-python",
   "name": "python",
   "nbconvert_exporter": "python",
   "pygments_lexer": "ipython3",
   "version": "3.12.7"
  }
 },
 "nbformat": 4,
 "nbformat_minor": 2
}
