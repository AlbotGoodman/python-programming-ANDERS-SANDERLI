{
 "cells": [
  {
   "cell_type": "markdown",
   "metadata": {},
   "source": [
    "# Objektsorientering  \n",
    "\n",
    "## Inheritance"
   ]
  },
  {
   "cell_type": "code",
   "execution_count": 2,
   "metadata": {},
   "outputs": [
    {
     "data": {
      "text/plain": [
       "(4, 8)"
      ]
     },
     "execution_count": 2,
     "metadata": {},
     "output_type": "execute_result"
    }
   ],
   "source": [
    "class Square: \n",
    "\n",
    "    def __init__(self, side):\n",
    "        self._side = side\n",
    "\n",
    "    @property\n",
    "    def side(self, value):\n",
    "        return self._side\n",
    "\n",
    "    @property\n",
    "    def area(self):\n",
    "        return self._side ** 2\n",
    "\n",
    "    \n",
    "class Rectangle:\n",
    "\n",
    "    def __init__(self, long, short):\n",
    "        self._long = long\n",
    "        self._short = short\n",
    "    \n",
    "    @property\n",
    "    def area(self):\n",
    "        return self._long * self._short\n",
    "\n",
    "s = Square(2)\n",
    "r = Rectangle(2, 4)\n",
    "\n",
    "s.area, r.area"
   ]
  },
  {
   "cell_type": "code",
   "execution_count": 5,
   "metadata": {},
   "outputs": [
    {
     "ename": "TypeError",
     "evalue": "Can't instantiate abstract class Shape with abstract method area",
     "output_type": "error",
     "traceback": [
      "\u001b[0;31m---------------------------------------------------------------------------\u001b[0m",
      "\u001b[0;31mTypeError\u001b[0m                                 Traceback (most recent call last)",
      "Cell \u001b[0;32mIn[5], line 36\u001b[0m\n\u001b[1;32m     34\u001b[0m s \u001b[38;5;241m=\u001b[39m Square(\u001b[38;5;241m2\u001b[39m)\n\u001b[1;32m     35\u001b[0m r \u001b[38;5;241m=\u001b[39m Rectangle(\u001b[38;5;241m2\u001b[39m, \u001b[38;5;241m4\u001b[39m)\n\u001b[0;32m---> 36\u001b[0m shape \u001b[38;5;241m=\u001b[39m \u001b[43mShape\u001b[49m\u001b[43m(\u001b[49m\u001b[43m)\u001b[49m\n\u001b[1;32m     37\u001b[0m s\u001b[38;5;241m.\u001b[39marea\n",
      "\u001b[0;31mTypeError\u001b[0m: Can't instantiate abstract class Shape with abstract method area"
     ]
    }
   ],
   "source": [
    "from abc import ABC, abstractmethod\n",
    "\n",
    "class Shape(ABC):\n",
    "\n",
    "    @abstractmethod\n",
    "    def area(self):\n",
    "        pass\n",
    "\n",
    "\n",
    "class Square: \n",
    "\n",
    "    def __init__(self, side):\n",
    "        self._side = side\n",
    "\n",
    "    @property\n",
    "    def side(self, value):\n",
    "        return self._side\n",
    "\n",
    "    @property\n",
    "    def area(self):\n",
    "        return self._side ** 2\n",
    "\n",
    "    \n",
    "class Rectangle(Shape):\n",
    "\n",
    "    def __init__(self, long, short):\n",
    "        self._long = long\n",
    "        self._short = short\n",
    "    \n",
    "    @property\n",
    "    def area(self):\n",
    "        return self._long * self._short\n",
    "\n",
    "s = Square(2)\n",
    "r = Rectangle(2, 4)\n",
    "shape = Shape()\n",
    "s.area"
   ]
  },
  {
   "cell_type": "markdown",
   "metadata": {},
   "source": [
    "När vi använder abstrakta metoder i Python är det bara en decorator (inte abstrakt) som säger att vi inte får instansiera det. "
   ]
  },
  {
   "cell_type": "code",
   "execution_count": 11,
   "metadata": {},
   "outputs": [
    {
     "data": {
      "text/plain": [
       "('Einstein', 'Ada', 'Church')"
      ]
     },
     "execution_count": 11,
     "metadata": {},
     "output_type": "execute_result"
    }
   ],
   "source": [
    "class Person:\n",
    "    def __init__(self, name):\n",
    "        self._name = name\n",
    "\n",
    "\n",
    "class Student(Person):\n",
    "    @property\n",
    "    def is_studying(self):\n",
    "        print(f\"{self._name} is studying\")\n",
    "        return True\n",
    "\n",
    "\n",
    "class Unemployed(Student):\n",
    "    @property\n",
    "    def is_studying(self):\n",
    "        print(f\"{self._name} is not studying\")\n",
    "        return False\n",
    "\n",
    "    @property\n",
    "    def is_working(self):\n",
    "        print(f\"{self._name} is not unemployed\")\n",
    "        return False\n",
    "\n",
    "\n",
    "u = Unemployed(\"Ada\")\n",
    "s = Student(\"Einstein\")\n",
    "p = Person(\"Church\")\n",
    "\n",
    "s._name, u._name, p._name"
   ]
  },
  {
   "cell_type": "markdown",
   "metadata": {},
   "source": [
    "En god rekommendation är att inte ärva från flera klasser. "
   ]
  },
  {
   "cell_type": "code",
   "execution_count": 12,
   "metadata": {},
   "outputs": [
    {
     "name": "stdout",
     "output_type": "stream",
     "text": [
      "Entering with message Hello\n",
      "Hello\n",
      "Exiting with message\n"
     ]
    }
   ],
   "source": [
    "class WithMessage(object):\n",
    "    def __init__(self, message):\n",
    "        self.message = message\n",
    "    \n",
    "    def __enter__(self):\n",
    "        print(f\"Entering with message {self.message}\")\n",
    "        return self.message\n",
    "    \n",
    "    def __exit__(self, *args):\n",
    "        print(\"Exiting with message\")\n",
    "\n",
    "\n",
    "with WithMessage(\"Hello\") as msg:           # msg namnger det som returneras från __enter__\n",
    "    print(msg)\n",
    "\n"
   ]
  },
  {
   "cell_type": "code",
   "execution_count": 47,
   "metadata": {},
   "outputs": [
    {
     "name": "stdout",
     "output_type": "stream",
     "text": [
      "Vector(6.0, 9.0) Vector(2.0, 1.0) Vector(12.0, 15.0)\n",
      "1\n",
      "4.47213595499958\n",
      "5.0\n",
      "True\n"
     ]
    },
    {
     "data": {
      "image/png": "[encoded data removed]",
      "text/plain": [
       "<Figure size 640x480 with 1 Axes>"
      ]
     },
     "metadata": {},
     "output_type": "display_data"
    }
   ],
   "source": [
    "import matplotlib.pyplot as plt\n",
    "\n",
    "\n",
    "class Vector:           # vector är som matematiska listor\n",
    "    \"\"\"A class to represent Euclidean vectors\"\"\"\n",
    "\n",
    "    def __init__(self, *numbers):         # *numbers är som en dict med alla följande parametrar i\n",
    "        # error checking\n",
    "        for number in numbers:\n",
    "            if not isinstance(number, (float, int)):\n",
    "                raise TypeError(f\"{number} is not a valid number\")\n",
    "        if len(numbers) <= 0:\n",
    "            raise ValueError(\"Vectors can't be empty\")\n",
    "        \n",
    "        self._numbers = tuple(float(number) for number in numbers)\n",
    "\n",
    "    @property\n",
    "    def numbers(self):\n",
    "        return self._numbers\n",
    "    \n",
    "    @staticmethod\n",
    "    def validate2d(instance):\n",
    "        if not len(instance) == 2:\n",
    "            raise ValueError(\"The vector is not 2D\")\n",
    "        return True\n",
    "    \n",
    "    def __add__(self, other):\n",
    "        if self.validate_vector(other):\n",
    "            numbers = (a + b for a, b in zip(self.numbers, other.numbers))\n",
    "            return Vector(*numbers)\n",
    "        \n",
    "    def __sub__(self, other):\n",
    "        if self.validate_vector(other):\n",
    "            numbers = (a - b for a, b in zip(self.numbers, other.numbers))\n",
    "            return Vector(*numbers)\n",
    "    \n",
    "    def __mul__(self, value):                       # här kan vi bara multiplicera t ex u * 3\n",
    "        if not isinstance(value, (int, float)):\n",
    "            raise TypeError(\"Value must be a scalar (int or float).\")\n",
    "        numbers = (a * value for a in self.numbers)\n",
    "        return Vector(*numbers)\n",
    "    \n",
    "    def __rmul__(self, value):                      # detta gör vi för att kunna multiplicera t ex 3 * u\n",
    "        return self * value\n",
    "\n",
    "    def __len__(self):\n",
    "        return len(self.numbers)\n",
    "\n",
    "    def validate_vector(self, other):\n",
    "        if not isinstance(other, Vector) or len(self.numbers) != len(other.numbers):\n",
    "            raise ValueError(f\"{other} is not a Vector\")\n",
    "        return True\n",
    "    \n",
    "    def __abs__(self):\n",
    "        \"\"\"Returns the Euclidean norm of the vector, aka the L2-norm\"\"\"   # kallas även manhattan distance ??? enligt Raphael\n",
    "        return sum(a ** 2 for a in self.numbers) ** 0.5                   # ** 0.5 är samma sak som att ta kvadratroten ur\n",
    "\n",
    "    def __repr__(self):\n",
    "        return f\"Vector{self.numbers}\"\n",
    "    \n",
    "    def __getitem__(self, index):\n",
    "        return self.numbers[index]\n",
    "    \n",
    "    @staticmethod\n",
    "    def plot(*vectors):\n",
    "        X, Y = [], []\n",
    "        for v in vectors:\n",
    "            if Vector.validate2d(v):\n",
    "                X.append(v[0])\n",
    "                Y.append(v[1])\n",
    "        \n",
    "        originX = originY = tuple(0 for _ in range(len(X)))\n",
    "        plt.quiver(originX, originY, X, Y, angles = \"xy\", scale_units = \"xy\", scale = 1)\n",
    "        plt.xlim(-2, 10)\n",
    "        plt.ylim(-2, 10)\n",
    "        plt.grid()\n",
    "        plt.show()\n",
    "\n",
    "\n",
    "v = Vector(2, 4)\n",
    "u = Vector(4, 5)\n",
    "print(u + v, u - v, u * 3)         # när det står + så kallar den på __add__, u blir self och v blir other\n",
    "\n",
    "# multiplikation är kommutativt (spelar ingen roll vilket objekt som står till höger eller vänster) men multiplikation med en vektor/scalar (?) är inte det\n",
    "\n",
    "abs(-1)         # abs är en inbyggd funktion som returnerar absolutbeloppet av ett tal\n",
    "print(abs(-1))\n",
    "\n",
    "# inom matematik skriver vi absolutbelopp som |n|\n",
    "# |n| = n if n > 0\n",
    "# |n| = -n if n < 0       (det är alltså minus minus n, alltså positivt därefter)\n",
    "# | x - a |               alla punkter vars avstånd till a är x. den hanterar både positiva och negativa tal\n",
    "# absolutbelopp på vector är hur lång den är, Euclidiskt avstånd\n",
    "\n",
    "print(abs(v))\n",
    "print(u[1])\n",
    "print(Vector.validate2d(u))\n",
    "Vector.plot(v, u, u+v, u-v)"
   ]
  },
  {
   "cell_type": "markdown",
   "metadata": {},
   "source": [
    "En viktig sak med linjär algebra:\n",
    "- ta norm\n",
    "- ta magnitudvärde\n",
    "det betyder avståndet från origo"
   ]
  }
 ],
 "metadata": {
  "kernelspec": {
   "display_name": ".venv",
   "language": "python",
   "name": "python3"
  },
  "language_info": {
   "codemirror_mode": {
    "name": "ipython",
    "version": 3
   },
   "file_extension": ".py",
   "mimetype": "text/x-python",
   "name": "python",
   "nbconvert_exporter": "python",
   "pygments_lexer": "ipython3",
   "version": "3.10.12"
  }
 },
 "nbformat": 4,
 "nbformat_minor": 2
}
