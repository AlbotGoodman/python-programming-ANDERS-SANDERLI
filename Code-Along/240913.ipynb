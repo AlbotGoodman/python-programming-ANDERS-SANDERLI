{
 "cells": [
  {
   "cell_type": "markdown",
   "metadata": {},
   "source": [
    "# Mängder\n",
    "\n",
    "Inom matematiken är en mängd en samling värden som genereras efter en viss regel. \n",
    "\n",
    "$\\{x\\in \\mathbb{N} | x \\mathtt{is even}\\}$ (för alla x i N är sådana att ...)\n",
    "\n",
    "Mängder kan vi skriva i Python på ett väldigt speciellt sätt. "
   ]
  },
  {
   "cell_type": "code",
   "execution_count": 9,
   "metadata": {},
   "outputs": [
    {
     "name": "stdout",
     "output_type": "stream",
     "text": [
      "[2, 4, 2]\n"
     ]
    }
   ],
   "source": [
    "[x for x in range(1, 11)]                   # i stället för att loopa en i taget så genererar vi\n",
    "\n",
    "[x+1 for x in range(1, 11)]                 # här adderar vi varje gång i stället, så början av list comprehension är vad vi gör varje gång\n",
    "\n",
    "ls = [1, 2, 3, 4, 5]\n",
    "[str(l) for l in ls]\n",
    "\n",
    "[l for l in ls if l % 2 == 0]\n",
    "\n",
    "[(l, l) for l in ls if l % 2 == 0]\n",
    "\n",
    "my_list = [l for l in ls if l % 2 == 0]\n",
    "my_list.append(2)\n",
    "print(my_list)"
   ]
  },
  {
   "cell_type": "markdown",
   "metadata": {},
   "source": [
    "Detta finns i alla funktionella kodspråk. \n",
    "\n",
    "Detta fungerar även på dict: (vilket är MYCKET snabbare)"
   ]
  },
  {
   "cell_type": "code",
   "execution_count": 10,
   "metadata": {},
   "outputs": [
    {
     "name": "stdout",
     "output_type": "stream",
     "text": [
      "{1, 2, 3, 4, 5, 6, 7, 8, 9, 10}\n"
     ]
    }
   ],
   "source": [
    "{i for i in range(1, 11)}\n",
    "\n",
    "lst = {i for i in range(1, 11)}\n",
    "#lst.append(2)                           #detta går inte, vi måste addera\n",
    "lst.add(1)\n",
    "print(lst)                               # det finns inga dubbletter i mängder, bara unika värden (alltså inte två ettor)\n"
   ]
  },
  {
   "cell_type": "code",
   "execution_count": 13,
   "metadata": {},
   "outputs": [
    {
     "data": {
      "text/plain": [
       "Text(0, 0.5, 'y')"
      ]
     },
     "execution_count": 13,
     "metadata": {},
     "output_type": "execute_result"
    },
    {
     "data": {
      "image/png": "[encoded data removed]",
      "text/plain": [
       "<Figure size 640x480 with 1 Axes>"
      ]
     },
     "metadata": {},
     "output_type": "display_data"
    }
   ],
   "source": [
    "import matplotlib.pyplot as plt\n",
    "\n",
    "x = list(range(10))\n",
    "k = 2\n",
    "m = 2\n",
    "y = [k*x+m for x in x]\n",
    "\n",
    "plt.plot(x, y)\n",
    "plt.title(\"Plot y = 2x +2\")\n",
    "plt.xlabel(\"x\")\n",
    "plt.ylabel(\"y\")"
   ]
  },
  {
   "cell_type": "markdown",
   "metadata": {},
   "source": [
    "So far:\n",
    "* I/O\n",
    "* Variabler\n",
    "* if/while/for (control)\n",
    "* lists\n",
    "* random"
   ]
  },
  {
   "cell_type": "code",
   "execution_count": 17,
   "metadata": {},
   "outputs": [
    {
     "name": "stdout",
     "output_type": "stream",
     "text": [
      "\n",
      "Name: \t Anders Sanderli\n",
      "School: \t IT-Högskolan\n",
      "Address: \t Ebbe Lieberethsgatan 18B\n",
      "Phone: \t 1-800-school\n",
      "\n"
     ]
    }
   ],
   "source": [
    "firstname = \"Anders\"\n",
    "lastname = \"Sanderli\"\n",
    "\n",
    "fullname = firstname + \" \" + lastname             # concatenate\n",
    "school = \"IT-Högskolan\"\n",
    "address = \"Ebbe Lieberethsgatan 18B\"\n",
    "phone = \"1-800-school\"\n",
    "\n",
    "# med f-strings ska vi göra multilines f-string\n",
    "\n",
    "contact_details = f\"\"\"\n",
    "Name: \\t {fullname}\n",
    "School: \\t {school}\n",
    "Address: \\t {address}\n",
    "Phone: \\t {phone}\n",
    "\"\"\"\n",
    "\n",
    "print(contact_details)\n",
    "\n",
    "# "
   ]
  },
  {
   "cell_type": "code",
   "execution_count": 21,
   "metadata": {},
   "outputs": [
    {
     "name": "stdout",
     "output_type": "stream",
     "text": [
      "Veckomeny \n",
      "Mån: Chili sin carne \n",
      "Tis: Nudlar \n",
      "Ons: Pokébowl \n",
      "Tor: Pannkakor \n",
      "Fre: Tacos \n",
      "\n"
     ]
    }
   ],
   "source": [
    "bamba = [\"Chili sin carne\", \"Nudlar\", \"Pokébowl\", \"Pannkakor\", \"Tacos\"]\n",
    "days = [\"Mån\", \"Tis\", \"Ons\", \"Tor\", \"Fre\"]\n",
    "\n",
    "menu = \"Veckomeny \\n\"\n",
    "\n",
    "for day, food in zip(days, bamba):              # Days och Bamba är två listor, zip gör en tuple av två listor. unzip() hade gjort motsatsen\n",
    "    menu += f\"{day}: {food} \\n\"                 # Om du vill göra med fler än två listor, går det rent praktiskt att anropa zip flera gånger \n",
    "                                                # det VERKAR som att det går att lägga in flera listor i zip \n",
    "print(menu)"
   ]
  },
  {
   "cell_type": "code",
   "execution_count": 27,
   "metadata": {},
   "outputs": [
    {
     "name": "stdout",
     "output_type": "stream",
     "text": [
      "quote[0]: !\n",
      "quote[5:10]: e - i\n",
      "quote[-4]: T\n",
      "quote[-4:]: True\n",
      "quote[::-1]: eurT s'ti esuaceb ynnuf s'ti - eslaF!\n"
     ]
    }
   ],
   "source": [
    "quote = \"!False - it's funny because it's True\"\n",
    "print(f\"quote[0]: {quote[0]}\")\n",
    "print(f\"quote[5:10]: {quote[5:10]}\")\n",
    "print(f\"quote[-4]: {quote[-4]}\")\n",
    "print(f\"quote[-4:]: {quote[-4:]}\")\n",
    "print(f\"quote[::-1]: {quote[::-1]}\")            # Raphael tycker det är bättre att använda funktionen reversed()\n"
   ]
  },
  {
   "cell_type": "code",
   "execution_count": 32,
   "metadata": {},
   "outputs": [
    {
     "name": "stdout",
     "output_type": "stream",
     "text": [
      "['Math', ' biology', ' Chemistry', ' programming']\n",
      "['math', 'biology', 'chemistry', 'programming']\n"
     ]
    }
   ],
   "source": [
    "subject = \"Math, biology, Chemistry, programming\"\n",
    "split = subject.split(\",\")\n",
    "\n",
    "print(split)\n",
    "\n",
    "stripped = [sub.strip().lower() for sub in split]\n",
    "\n",
    "print(stripped)"
   ]
  },
  {
   "cell_type": "markdown",
   "metadata": {},
   "source": [
    "# Reguljära uttryck \n",
    "\n",
    "Hitta pch plocka ut mönster. Enormt kraftfulla. Svårläst. \n",
    "\n",
    "Går att hitta syntax för RegEx på python.org"
   ]
  },
  {
   "cell_type": "code",
   "execution_count": 41,
   "metadata": {},
   "outputs": [
    {
     "name": "stdout",
     "output_type": "stream",
     "text": [
      "['katt', 'hatt']\n",
      "YYYYMMDD-XXXX: ['19959397-1273', '19601215-3754', '19952255-0000']\n",
      "YYMMDD-XXXX: ['959397-1273', '601215-3754', '050524-3764', '952255-0000']\n"
     ]
    }
   ],
   "source": [
    "import re\n",
    "\n",
    "text = \"Det var en galen katt som tog på sig en hatt.\"\n",
    "\n",
    "match_list = re.findall(r\".att\", text)\n",
    "print(match_list)\n",
    "\n",
    "person_numbers = \"Ida: 19959397-1273, Berit: 19601215-3754, Ada: 050524-3764, FEL: 19952255-0000\"\n",
    "match_long = re.findall(r\"\\d{8}-\\d{4}\", person_numbers)               # \\d står för vilken siffra som helst, {8} står för åtta siffror\n",
    "print(f\"YYYYMMDD-XXXX: {match_long}\")                                 # \\w hade varit whitespace\n",
    "\n",
    "match_short = re.findall(r\"\\d{6}-\\d{4}\", person_numbers)\n",
    "print(f\"YYMMDD-XXXX: {match_short}\")"
   ]
  },
  {
   "cell_type": "code",
   "execution_count": 42,
   "metadata": {},
   "outputs": [
    {
     "name": "stdout",
     "output_type": "stream",
     "text": [
      "['19959397-1273', '19601215-3754', '050524-3764', '19952255-0000']\n"
     ]
    }
   ],
   "source": [
    "my_match = re.findall(r\"\\d+-\\d+\", person_numbers)                   #+ betyder en eller fler\n",
    "print(my_match)"
   ]
  },
  {
   "cell_type": "markdown",
   "metadata": {},
   "source": [
    "# Exercises\n",
    "\n",
    "## 00-3 Classification accuracy"
   ]
  },
  {
   "cell_type": "code",
   "execution_count": 43,
   "metadata": {},
   "outputs": [
    {
     "name": "stdout",
     "output_type": "stream",
     "text": [
      "Accuracy of this model is: 0.987\n"
     ]
    }
   ],
   "source": [
    "true_positive = 2\n",
    "false_positive = 2\n",
    "false_negative = 11\n",
    "true_negative = 985\n",
    "\n",
    "accuracy = (true_positive + true_negative) / (true_positive + true_negative + false_negative + false_positive)\n",
    "print(f\"Accuracy of this model is: {accuracy}\")\n",
    "\n",
    "# Allt den gör är att den larmar nästan aldrig, ett uselt brandlarm, men procenten är ju gôr bra. \n",
    "# I regression är detta ett jätteproblem. \n",
    "# Detta kommer vi återkomma till många gånger. "
   ]
  },
  {
   "cell_type": "markdown",
   "metadata": {},
   "source": [
    "Euclidiskt avstånd.\n",
    "\n",
    "Om de är långt ifrån varandra är de olika varandra. "
   ]
  },
  {
   "cell_type": "code",
   "execution_count": 45,
   "metadata": {},
   "outputs": [
    {
     "name": "stdout",
     "output_type": "stream",
     "text": [
      "Distance between points [3, 5] and [-2, 4] is 5.0990195135927845 u.\n"
     ]
    }
   ],
   "source": [
    "import math\n",
    "\n",
    "point1 = [3, 5]\n",
    "point2 = [-2, 4]\n",
    "\n",
    "distance = math.sqrt((point1[0] - point2[0]) ** 2 + (point1[1] - point2[1]) ** 2)\n",
    "\n",
    "print(f\"Distance between points {point1} and {point2} is {distance} u.\")"
   ]
  },
  {
   "cell_type": "markdown",
   "metadata": {},
   "source": [
    "$\\sqrt{(x_1 - x_2)^2 + (y_1 - y_2)^2}$"
   ]
  },
  {
   "cell_type": "markdown",
   "metadata": {},
   "source": [
    "## 02-5.b)"
   ]
  },
  {
   "cell_type": "code",
   "execution_count": 47,
   "metadata": {},
   "outputs": [
    {
     "name": "stdout",
     "output_type": "stream",
     "text": [
      "Number of iterations: 1000002\n",
      " sum: 0.7854 or 0.2500 pi\n"
     ]
    }
   ],
   "source": [
    "# Först visar vi med while sedan ett väldigt mycket snabbare sätt. \n",
    "\n",
    "import numpy as np\n",
    "\n",
    "def term(n):\n",
    "    return np.divide(np.float_power((-1), n), 2 * n + 1)\n",
    "\n",
    "v = 0\n",
    "n=0\n",
    "acc = 0\n",
    "e = 1\n",
    "while e > np.float_power(10, -6):       # om större än en miljontedel såska vi fortsätta loopen\n",
    "    prev = v\n",
    "    v = term(n)                         # exempel på top-down programmering så ...\n",
    "    e = np.absolute(prev - v)\n",
    "    acc += v\n",
    "    n += 1\n",
    "\n",
    "print(f\"Number of iterations: {n}\\n sum: {acc:.4f} or {np.divide(acc, np.pi):.4f} pi\")"
   ]
  },
  {
   "cell_type": "markdown",
   "metadata": {},
   "source": [
    "Det är egentligen själva loopen som tar massa tid. Här är ett snabbare sätt:"
   ]
  },
  {
   "cell_type": "code",
   "execution_count": 49,
   "metadata": {},
   "outputs": [
    {
     "name": "stdout",
     "output_type": "stream",
     "text": [
      "sum 0.7854 or 0.2500 pi\n"
     ]
    }
   ],
   "source": [
    "X = np.arange(1000000)                 # en lista som innehåller tal från 1 till 1 miljon | jag tror Raphael sa att detta var en array\n",
    "s = np.sum(term(X))                     # appliceras funktionen på varje element (\"index\") i listan\n",
    "print(f\"sum {s:.4f} or {np.divide(s, np.pi):.4f} pi\")"
   ]
  },
  {
   "cell_type": "code",
   "execution_count": 64,
   "metadata": {},
   "outputs": [
    {
     "name": "stdout",
     "output_type": "stream",
     "text": [
      "testing testing testing\n",
      "hejhej\n",
      "hejhej\n",
      "hejhej\n",
      "hejhej\n"
     ]
    }
   ],
   "source": [
    "path = \"240913-textfil.txt\"\n",
    "\n",
    "with open(path, 'r') as file:\n",
    "    min_str = file.read()\n",
    "\n",
    "print(min_str)\n",
    "\n",
    "with open(path, 'a') as file:               # 'a' som i append\n",
    "    file.write(\"\\nhejhej\")\n",
    "\n",
    "# för att få alla rättigheter (read, write, append) så använd 'r+' eller 'w+' eller 'a+'. \n",
    "# r+ ger error om filen inte finns, annars börjar vi i början av filen\n",
    "# w+ skapar filen om den inte finns\n",
    "# a+ börjar i slutet av filen\n",
    "# titta noggrannare på detta om det är intressant att använda både read och write på filer. \n",
    "# sen kommer vi framförallt att använda ramverk sklearn, pandas osv. Tex pandas har egna funktioner för att läsa och skriva osv"
   ]
  }
 ],
 "metadata": {
  "kernelspec": {
   "display_name": ".venv",
   "language": "python",
   "name": "python3"
  },
  "language_info": {
   "codemirror_mode": {
    "name": "ipython",
    "version": 3
   },
   "file_extension": ".py",
   "mimetype": "text/x-python",
   "name": "python",
   "nbconvert_exporter": "python",
   "pygments_lexer": "ipython3",
   "version": "3.10.12"
  }
 },
 "nbformat": 4,
 "nbformat_minor": 2
}
