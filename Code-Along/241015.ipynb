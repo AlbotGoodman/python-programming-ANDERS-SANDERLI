{
 "cells": [
  {
   "cell_type": "markdown",
   "metadata": {},
   "source": [
    "# Tentamensvecka - repetition  \n",
    "\n",
    "## Övningstentan"
   ]
  },
  {
   "cell_type": "markdown",
   "metadata": {},
   "source": [
    "dict = Associationslista med nycklar och värden. Snabb pga om vi ska ha ett värde så hoppar den till korrekt hash direkt. \n",
    "set = fungerar på samma sak men har inga värden/nycklar, bara nycklar/värden (bara ett element). Då finns det inte dubbletter. Lika snabb, fungerar likadant.  \n",
    "\n",
    "**Tentan:**  \n",
    "- penna och papper  \n",
    "- fem timmar, kör i gång kl 9 (9:15 kanske), ingen lunch  \n",
    "- motivera svaren, hellre än inte. "
   ]
  },
  {
   "cell_type": "markdown",
   "metadata": {},
   "source": [
    "## Genomgång\n",
    "\n",
    "### Variabler och konstanter\n",
    "\n",
    "Variabler är bitar av minne som innehåller tal. Vi tolkar talen boende på vilken _typ_ variabeln har. Konstanter är immutable, dvs kan inte förändras efter att de skapats. "
   ]
  },
  {
   "cell_type": "code",
   "execution_count": null,
   "metadata": {},
   "outputs": [],
   "source": [
    "a: int = 43             # detta är en typehint, finns att ladda ner för att läsa. de är klasser så du kan skapa egna klasser och använda som typehints\n",
    "b: str = \"hejsan\"\n",
    "c: list = [2,3,4]\n",
    "# lists can have different objects in them, \"polytypic lists\"\n",
    "d: list = [\"2\", 3, 2.0]\n",
    "kv: dict = {\"Ada\": 1, \"Lovelock\": 2, \"Einstein\": 3}\n",
    "sm: set = {1,2,3,4}\n",
    "sm2: set = {\"a\", \"b\"}\n",
    "sm3: set = {\"a\", 1}\n",
    "const1: tuple = (1,2)\n",
    "const2: tuple = (1,)"
   ]
  },
  {
   "cell_type": "markdown",
   "metadata": {},
   "source": [
    "## Funktioner  \n",
    "\n",
    "Funktion, procedur, metod är samma saker. De sistnämnda är specifika varianter av funktioner. "
   ]
  },
  {
   "cell_type": "code",
   "execution_count": null,
   "metadata": {},
   "outputs": [],
   "source": [
    "# Pure function, no side-effects, only uses input paramteters and predefined operations\n",
    "def my_func(a: int, b: int, c: int = 1) -> int :            # här stämmer typehints sisådär eftersom vi kan i praktiken skicka in vad som helst\n",
    "    \"\"\"Here there should be a usage text for this function.\"\"\"\n",
    "    return a * c + b\n",
    "\n",
    "\n",
    "def my_proc():\n",
    "    with open(\"somefile\") as file:\n",
    "        return file.readlines()\n",
    "\n",
    "\n",
    "import numpy as np\n",
    "\n",
    "radius = 3.0\n",
    "area = 2 * np.pi * np.power(radius, 2)          # exempel på metodanrop (pi, power). Även * är metoder, de översätts till metodanrop"
   ]
  },
  {
   "cell_type": "markdown",
   "metadata": {},
   "source": [
    "Python använder (per rekommendation):  \n",
    "CamelCase  \n",
    "kebab-case  \n",
    "snake_case  \n",
    "GLOBALVARIABLES  "
   ]
  },
  {
   "cell_type": "markdown",
   "metadata": {},
   "source": [
    "## Listor"
   ]
  },
  {
   "cell_type": "code",
   "execution_count": 6,
   "metadata": {},
   "outputs": [
    {
     "name": "stdout",
     "output_type": "stream",
     "text": [
      "10 [0, 1, 2, 3, 4, 5, 6, 7, 8, 9]\n",
      "10 [0, 1, 2, 3, 4, 5, 6, 7, 8, 9, 10]\n"
     ]
    }
   ],
   "source": [
    "# indexering\n",
    "A = [0, 1, 2, 3, 4, 5, 6, 7, 8, 9, 10]\n",
    "S = \"DETTA ÄR EN STRÄNG\"\n",
    "A[2::-1]\n",
    "\n",
    "e = A.pop() # plockar sista elementet UR A och lägger i e. Nu beter sig listan som en stack (last in, first out)\n",
    "print(e, A)\n",
    "\n",
    "A.append(e)\n",
    "print(e, A)\n",
    "\n",
    "# om du använder head i stället för pop så blir det en kö (som en fysisk kö)"
   ]
  },
  {
   "cell_type": "code",
   "execution_count": 12,
   "metadata": {},
   "outputs": [
    {
     "name": "stdout",
     "output_type": "stream",
     "text": [
      "[0, 1, 4, 9, 16, 25, 36, 49, 64, 81]\n",
      "[0, 1, 4, 9, 16, 25, 36, 49, 64, 81]\n",
      "[0, 4, 16, 36, 64]\n",
      "[0, 4, 16, 36, 64]\n",
      "[0, 0, 2, 6, 4, 12, 6, 18, 8, 24]\n",
      "[0, 0, 2, 6, 4, 12, 6, 18, 8, 24]\n"
     ]
    }
   ],
   "source": [
    "# list comprehension\n",
    "sqrs = [i**2 for i in range(10)]\n",
    "print(sqrs)\n",
    "\n",
    "sqrs_list = list()          # samma sak som: sqrs_list = []\n",
    "for i in range(10):         # detta kallas en map\n",
    "    sqrs_list.append(i**2)\n",
    "print(sqrs_list)\n",
    "\n",
    "###########\n",
    "\n",
    "sqrs = [i**2 for i in range(10) if i % 2 == 0]\n",
    "print(sqrs)\n",
    "\n",
    "sqrs_list = list()\n",
    "for i in range(10):\n",
    "    if i % 2 == 0:\n",
    "        sqrs_list.append(i**2)\n",
    "print(sqrs_list)\n",
    "\n",
    "###########\n",
    "\n",
    "sqrs = [i*j for i in range(10) for j in range(5) if i % 2 == 0 and j % 2 != 0]\n",
    "print(sqrs)\n",
    "\n",
    "# procedurell stil\n",
    "sqrs_list = list()\n",
    "for i in range(10):\n",
    "    for j in range(5):\n",
    "        if i % 2 == 0 and j % 2 != 0:\n",
    "            sqrs_list.append(i*j)\n",
    "print(sqrs_list)"
   ]
  },
  {
   "cell_type": "code",
   "execution_count": 14,
   "metadata": {},
   "outputs": [
    {
     "name": "stdout",
     "output_type": "stream",
     "text": [
      "[1, 4, 9, 16]\n",
      "[1, 4, 9, 16]\n"
     ]
    }
   ],
   "source": [
    "def f(x):\n",
    "    return x**2\n",
    "\n",
    "#funktionell stil\n",
    "print(list(map(f, [1,2,3,4])))      # dessa två är samma\n",
    "print([f(i) for i in [1,2,3,4]])    # dessa två är samma"
   ]
  },
  {
   "cell_type": "markdown",
   "metadata": {},
   "source": [
    "## Dictionary  "
   ]
  },
  {
   "cell_type": "code",
   "execution_count": 23,
   "metadata": {},
   "outputs": [
    {
     "name": "stdout",
     "output_type": "stream",
     "text": [
      "1\n",
      "a\n",
      "b\n",
      "c\n",
      "1\n",
      "2\n",
      "3\n",
      "{'Byron': 'Ada', 'Gödel': 'Kurt', 'Turing': 'Alan', 'Church': 'Alonzo'}\n",
      "{'Byron': 'Ada', 'Gödel': 'Kurt', 'Turing': 'Alan', 'Church': 'Alonzo'}\n",
      "{'Byron', 'Church', 'Gödel', 'Turing'}\n"
     ]
    }
   ],
   "source": [
    "kv = {\"a\": 1, \"b\": 2, \"c\": 3} \n",
    "print(kv[\"a\"])  # indexeras med nycklar\n",
    "\n",
    "for k in kv:\n",
    "    print(k)    # skriver nycklar\n",
    "\n",
    "for k in kv:\n",
    "    print(kv[k])    # skriver värden\n",
    "\n",
    "A = [\"Ada\", \"Kurt\", \"Alan\", \"Alonzo\"]\n",
    "B = [\"Byron\", \"Gödel\", \"Turing\", \"Church\"]\n",
    "\n",
    "computer_scientists = {efternamn:fornamn for fornamn, efternamn in zip(A, B)}\n",
    "print(computer_scientists)\n",
    "print(dict(zip(B, A)))\n",
    "print(set(B))"
   ]
  },
  {
   "cell_type": "markdown",
   "metadata": {},
   "source": [
    "11:52\n",
    "12:01"
   ]
  }
 ],
 "metadata": {
  "kernelspec": {
   "display_name": ".venv",
   "language": "python",
   "name": "python3"
  },
  "language_info": {
   "codemirror_mode": {
    "name": "ipython",
    "version": 3
   },
   "file_extension": ".py",
   "mimetype": "text/x-python",
   "name": "python",
   "nbconvert_exporter": "python",
   "pygments_lexer": "ipython3",
   "version": "3.12.7"
  }
 },
 "nbformat": 4,
 "nbformat_minor": 2
}
