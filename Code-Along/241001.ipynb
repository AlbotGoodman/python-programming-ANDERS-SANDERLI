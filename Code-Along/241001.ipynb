{
 "cells": [
  {
   "cell_type": "markdown",
   "metadata": {},
   "source": [
    "# Objektsorientering  "
   ]
  },
  {
   "cell_type": "code",
   "execution_count": 1,
   "metadata": {},
   "outputs": [
    {
     "name": "stdout",
     "output_type": "stream",
     "text": [
      "10\n",
      "<bound method Square.get_side of <__main__.Square object at 0x7fc47842aa40>>\n",
      "10\n",
      "Value must be non-negative int or float, not str\n"
     ]
    }
   ],
   "source": [
    "class Square:\n",
    "    def __init__(self, side) -> None:           # typehints är en dokumentation som kan vara användbart ibland. tar side och ger \n",
    "        self.side = side\n",
    "                                                # double underscore ska inte vi använda men det python gör då är mangla namnet så att det inte ska krocka med andra variabler (information hiding)\n",
    "    def get_side(self):\n",
    "        return self._side\n",
    "    \n",
    "    def set_side(self, value):\n",
    "        if not isinstance(value, (int, float)) or value <= 0:\n",
    "            raise ValueError(f\"Value must be non-negative int or float, not {type(value).__name__}\")\n",
    "        self._side = value                              # en privat variabel, en namnkonvention. skriv och läs inte direkt till den. andra språk skriver private\n",
    "    side = property(fget=get_side, fset=set_side)       # property är en inbyggd metod som gör att vi kan använda get och set som om det vore en variabel\n",
    "\n",
    "\n",
    "square = Square(10)\n",
    "print(square.get_side())\n",
    "print(square.get_side)\n",
    "print(square.side)          # detta är en property, en metod som ser ut som en variabel. alltså inte en funktion\n",
    "try:\n",
    "    square.side = \"10\"\n",
    "except ValueError as err:\n",
    "    print(err)"
   ]
  },
  {
   "cell_type": "markdown",
   "metadata": {},
   "source": [
    "Det finns ett annat sätt att skriva properties. Nedan är kanske det vanligasre sättet. "
   ]
  },
  {
   "cell_type": "code",
   "execution_count": 2,
   "metadata": {},
   "outputs": [
    {
     "name": "stdout",
     "output_type": "stream",
     "text": [
      "20 400\n"
     ]
    }
   ],
   "source": [
    "class Square:\n",
    "\n",
    "    def __init__(self, side):\n",
    "        self.side = side\n",
    "    \n",
    "    @property                   # (en decorator). detta blir vår getter\n",
    "    def side(self):\n",
    "        return self._side\n",
    "    \n",
    "    @side.setter                # vår setter\n",
    "    def side(self, value):      # måste ha samma namn som ovan\n",
    "        if not isinstance(value, (int, float)) or value < 0:                # tar emot värde och kollar för varje element i listan om det är int eller float så blir det true\n",
    "            raise ValueError(f\"Value must be non-negative int or float.\")\n",
    "        self._side = value\n",
    "    \n",
    "    @property                   # detta är en property som inte går att ändra. såklart, eftersom area är beroende av side\n",
    "    def area(self):\n",
    "        return self.side ** 2\n",
    "\n",
    "\n",
    "square = Square(10)\n",
    "square.side = 20\n",
    "print(square.side, square.area)"
   ]
  }
 ],
 "metadata": {
  "kernelspec": {
   "display_name": ".venv",
   "language": "python",
   "name": "python3"
  },
  "language_info": {
   "codemirror_mode": {
    "name": "ipython",
    "version": 3
   },
   "file_extension": ".py",
   "mimetype": "text/x-python",
   "name": "python",
   "nbconvert_exporter": "python",
   "pygments_lexer": "ipython3",
   "version": "3.10.12"
  }
 },
 "nbformat": 4,
 "nbformat_minor": 2
}
