{
 "cells": [
  {
   "cell_type": "markdown",
   "metadata": {},
   "source": [
    "# Files"
   ]
  },
  {
   "cell_type": "code",
   "execution_count": 34,
   "metadata": {},
   "outputs": [
    {
     "name": "stdout",
     "output_type": "stream",
     "text": [
      "'  If     we     knew what it was      we were doing, it would not be called research,          would it?     - Albert Einstein\\n\\nTime is a drug. Too       much of it kills you.  -  Terry Pratchett\\n\\n\\n An expert is a person who       has made all the mistakes that           can be made in a          very narrow field - Niels Bohr\\n\\n   Everything must be made as simple as possible. But not simpler. - Albert Einstein     \\n\\n\\n  Nothing in life                is to be feared, it is only to be understood. Now is the time to understand more, so that we may fear less. - Marie  Curie  \\n\\nIf I have seen further     it is by standing on the shoulders of Giants. - Isaac Newton'\n"
     ]
    }
   ],
   "source": [
    "path = \"/home/albot/coding/repos/python-programming-ANDERS-SANDERLI/Data/quotes.txt\"\n",
    "# alternativt i Jupyter Notebook\n",
    "# path = \"../Data/quotes.txt\"\n",
    "\n",
    "with open(path, \"r\") as f:\n",
    "    text = f.read() #reads whole file\n",
    "\n",
    "print(repr(text))"
   ]
  },
  {
   "cell_type": "code",
   "execution_count": 35,
   "metadata": {},
   "outputs": [
    {
     "name": "stdout",
     "output_type": "stream",
     "text": [
      "If I have seen further it is by standing on the shoulders of Giants. - Isaac Newton\n"
     ]
    }
   ],
   "source": [
    "import re\n",
    "\n",
    "path2 = \"/home/albot/coding/repos/python-programming-ANDERS-SANDERLI/Data/quotes_cleaned.txt\"\n",
    "\n",
    "quotes, i = [], 1       # matchar raderna mot varandra och skapar en tuple\n",
    "\n",
    "with open(path, \"r\") as f_read, open (path2, \"w\") as f_write:\n",
    "    f_write.write(\"Famous quotes\\n\\n\")\n",
    "    for quote in f_read:\n",
    "        quote= quote.strip(\" \\n\")   \n",
    "        quote = re.sub(r\" +\", \" \", quote)    # hitta ett eller flera blanksteg och ersätt med bara ett blanksteg\n",
    "        if quote != \"\":\n",
    "            f_write.write(f\"{i}. {quote}\\n\")\n",
    "            i += 1\n",
    "\n",
    "print(quote)\n"
   ]
  },
  {
   "cell_type": "code",
   "execution_count": 40,
   "metadata": {},
   "outputs": [
    {
     "data": {
      "text/plain": [
       "{'Albert Einstein',\n",
       " 'Isaac Newton',\n",
       " 'Marie Curie',\n",
       " 'Niels Bohr',\n",
       " 'Terry Pratchett'}"
      ]
     },
     "execution_count": 40,
     "metadata": {},
     "output_type": "execute_result"
    }
   ],
   "source": [
    "with open(path2, \"r\") as f_read, open(path2, \"a\") as f_append:\n",
    "    quotes = [quote.strip(\"\\n\") for quote in f_read.readlines() if quote[0].isdigit()]\n",
    "    authors = [quote.split()[-2:] for quote in quotes]\n",
    "    authors = set([\" \".join(author) for author in authors])\n",
    "\n",
    "    f_append.write(\"\\nAuthors: \")\n",
    "    for author in authors:\n",
    "        f_append.write(f\"{author}, \")\n",
    "\n",
    "authors"
   ]
  },
  {
   "cell_type": "markdown",
   "metadata": {},
   "source": [
    "# Matematikrepetition"
   ]
  },
  {
   "cell_type": "markdown",
   "metadata": {},
   "source": [
    "## Polynom  \n",
    "\n",
    "### Förstagradspolynom\n",
    "\n",
    "P[x] kx + m\n",
    "\n",
    "Ovan är ett polynom av grad 1. De är alltså inte ekvationer. Det är bara det som står på högersidan. \n",
    "\n",
    "P = x +1\n",
    "P = x\n",
    "P = 2x + 9\n",
    "\n",
    "### Andragradspolynom  \n",
    "\n",
    "P[x] = ax² + bx + c\n",
    "\n",
    "P = x² - 2x + 1\n",
    "P = x²\n",
    "\n",
    "### Tredjegradspolynom\n",
    "\n",
    "P[x] = ax³ + bx² + cx + d\n",
    "\n",
    "### Polynom som vektorer  \n",
    "\n",
    "I datorn kan vi representera polynom som vektorer (listor). \n",
    "\n",
    "[a0, ..., an] ungefär lika med ao + a1x + a2x² + ... + anx^n\n",
    "\n",
    "Kvadrering / konjugat:\n",
    "\n",
    "(x + y)² = x² + 2xy + y²\n",
    "(x - y)² = x² - 2xy + y²\n",
    "(x + y) ( x - y) = x² + y²\n",
    "\n",
    "Faktorisering: \n",
    "ax² + bx + c = 0\n",
    "x² - 2x + 1 = 0         # detta är samma sak ...\n",
    "x = 1 +- roten ur 0\n",
    "x0 = alpha\n",
    "(x - 1)²                # ... som detta. En faktor. \n",
    "                        # En faktor på samma sätt som att sju och två är faktorer till 7 * 2 = 14\n",
    "\n",
    "## Linjära ekvationssystem  \n",
    "\n",
    "{2x + 1}        # egentligen en måsparantes på vardera sida\n",
    "{-x + 1}\n",
    "\n",
    "Går att lösa genom att måla upp det grafiskt. Tänk att y = +1 så kommer en rät linje gå igenom den punkten på väg upp och en ner (den negativa)\n",
    "Går också att lösa med substitution.\n",
    "\n",
    "2x + 1 = -x +1\n",
    "3x = 0\n",
    "\n",
    "Går att lösa med radoperation (additionsmetoden)\n",
    "\n",
    "{2x + 1}\n",
    "{-x + 1}   ta -1x härifrån och gångra med raden ovanför\n",
    "\n",
    "2x + 1 - (-x + 1) = y - y\n",
    "2x + 1 + x - 1 = 0\n",
    "3x = 0\n",
    "\n",
    "Denna metod kallas också Gauss-eliminering. \n",
    "\n",
    "Vi kommer använda oss av: \n",
    "\n",
    "[1  2 | 1]\n",
    "[1 -1 | 1]\n",
    "\n",
    "För alla linjära ekvationssystem finns bara:\n",
    "- ingen lösning (två parallella linjer)\n",
    "- entydig lösning (två linjer skär varandra vid en punkt)\n",
    "- oändligt många lösningar (när linjerna är desamma)\n",
    "\n",
    "## Potenser och logaritmer  \n",
    "\n",
    "Vi bryr oss bara om naturlig logaritm (ln) och inga andra logaritmer (log). \n",
    "\n",
    "10³\n",
    "\n",
    "Tio är basen och trean är exponenten. \n",
    "\n",
    "ln x^a = a * ln x\n",
    "ln e = 1\n",
    "ln e^a = a * lne = a\n",
    "e^lna = a = lne^a\n",
    "\n",
    "Går att byta plats på ... (?)\n",
    "\n",
    "ln (x * y) = ln x + ln y    motsvarar   (e^a * e^b = e^a+b)         kallas att linjarisera om 2 ln x (liknar en rät linje)\n",
    "ln (x / y) = ln x - ln y    motsvarar   ln(1 / x) = -x\n",
    "\n",
    "Vi kommer använda dessa för att linjarisera kvadratiska formler.    i stället för x² så 2 ln x (?)\n",
    "\n",
    "## Bevisföring\n",
    "\n",
    "\"Logiskt resonemang som leder till en viss slutsats\"\n",
    "\n",
    "Exempel: pythagoras sats\n",
    "\n",
    "Tänk grafiskt, en kvadrat med en till kvadrat (ruter/diamant) inuti. \n",
    "(a + b)² = 2ab + c²\n",
    "|\n",
    "a² + b² = c²            # normalform\n",
    "\n",
    "En sekvens av operationer som leder till ett visst sluttillstånd. \n",
    "\n",
    "Ett bevis är en algoritm. Vi gör alltså en serie operationer tills vi når sluttillståndet / normalformen. \n",
    "\n",
    "När vi programmerar gör vi matematiska bevis. \n",
    "\n",
    "## Tips\n",
    "\n",
    "Matteboken och radoperationer. "
   ]
  }
 ],
 "metadata": {
  "kernelspec": {
   "display_name": ".venv",
   "language": "python",
   "name": "python3"
  },
  "language_info": {
   "codemirror_mode": {
    "name": "ipython",
    "version": 3
   },
   "file_extension": ".py",
   "mimetype": "text/x-python",
   "name": "python",
   "nbconvert_exporter": "python",
   "pygments_lexer": "ipython3",
   "version": "3.12.7"
  }
 },
 "nbformat": 4,
 "nbformat_minor": 2
}
