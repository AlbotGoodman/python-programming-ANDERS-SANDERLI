{
 "cells": [
  {
   "cell_type": "markdown",
   "metadata": {},
   "source": [
    "#### OOP avslutningsis"
   ]
  },
  {
   "cell_type": "markdown",
   "metadata": {},
   "source": [
    "__getitem__ är för listor.  \n",
    "__repr__ är för print. "
   ]
  },
  {
   "cell_type": "markdown",
   "metadata": {},
   "source": [
    "# Debugging"
   ]
  },
  {
   "cell_type": "markdown",
   "metadata": {},
   "source": [
    "Tittar på 241004 som exempel.\n",
    "\n",
    "I call stack ligger alla anrop vi gjort för att nå hit. \n",
    "\n",
    "I watch kan du skriva vad du vill, t ex ett uttryck. Kanske för att se när en variabel tilldelas eller vad för värden den eller vissa element innehåller. Blir i stället för print, tillsammans med att se local/global variables ovanför. "
   ]
  },
  {
   "cell_type": "markdown",
   "metadata": {},
   "source": [
    "# Importa script"
   ]
  },
  {
   "cell_type": "markdown",
   "metadata": {},
   "source": [
    "I en ny fil kan vi importa vector.py för att få tillgång till alla funktioner och liknande. Några exempel:\n",
    "\n",
    "import vector                   # nu måste vi skriva vector.Vector(1, 2, 3)\n",
    "from vector import Vector       # nu kan vi skriva Vector(1, 2, 3)\n",
    "\n",
    "Däremot får vi med alla printsatser eller liknande. Ett tips då, i originalfilen skrivs:"
   ]
  },
  {
   "cell_type": "code",
   "execution_count": null,
   "metadata": {},
   "outputs": [],
   "source": [
    "if __name__ == \"__main__\":\n",
    "    NAME = \"Albot Goodman\"\n",
    "    print(\"Nu är vi i originalfilen\")"
   ]
  },
  {
   "cell_type": "markdown",
   "metadata": {},
   "source": [
    "Då kommer alltså allt från if-satsen att göras på global nivå. Då bör alla variabler ha versaler. "
   ]
  },
  {
   "cell_type": "code",
   "execution_count": null,
   "metadata": {},
   "outputs": [],
   "source": [
    "import 241008001 as vector\n",
    "import os, sys\n",
    "\n",
    "os.system(\"clear ; 'Från terminalen'\")\n",
    "print(f\"{'='*30} main.py {'='*30}\\n\")\n",
    "\n",
    "print(\"globals\")\n",
    "glob_dict = globals()\n",
    "print(glob_dict[\"__name__\"])"
   ]
  },
  {
   "cell_type": "markdown",
   "metadata": {},
   "source": [
    "Jag får inte ovan att fungera med att importera ett script. Funderar på om det är relaterat till när jag försökt hitta paths tidigare, som i lab2. "
   ]
  },
  {
   "cell_type": "code",
   "execution_count": 6,
   "metadata": {},
   "outputs": [
    {
     "name": "stdout",
     "output_type": "stream",
     "text": [
      "['/home/albot/coding/repos/python-programming-ANDERS-SANDERLI/.venv/lib/python3.10/site-packages/ipykernel_launcher.py', '--f=/home/albot/.local/share/jupyter/runtime/kernel-v3674d9c756e9549040df5c5ff25903edb188f3266.json']\n"
     ]
    }
   ],
   "source": [
    "import sys\n",
    "\n",
    "print(sys.argv)\n",
    "\n",
    "if __name__ == \"__main__\":\n",
    "    print(sys.argv) #argumenten till kommandot i kommandoraden. Finns även import argparse som är värt att kika på"
   ]
  },
  {
   "cell_type": "markdown",
   "metadata": {},
   "source": [
    "# Testfall"
   ]
  },
  {
   "cell_type": "markdown",
   "metadata": {},
   "source": [
    "Testfall ska göra oss hyfsat säkra på att vi gjort som vi tänkt. \n",
    "- Hotz\n",
    "\n",
    "Enhetstester är att testa bara en funktion. \n",
    "Funktionellt test är att testa funktionen i sin \"naturliga miljö\". Görs vanligtvis ofta vid commits. \n",
    "\n",
    "En färdigt ramverk för enhetstester: unittest "
   ]
  },
  {
   "cell_type": "code",
   "execution_count": null,
   "metadata": {},
   "outputs": [],
   "source": [
    "from vector import Vector\n",
    "\n",
    "# eftersom jag inte får import att fungera så gör jag detta i 241004 i en egen cell"
   ]
  }
 ],
 "metadata": {
  "kernelspec": {
   "display_name": ".venv",
   "language": "python",
   "name": "python3"
  },
  "language_info": {
   "codemirror_mode": {
    "name": "ipython",
    "version": 3
   },
   "file_extension": ".py",
   "mimetype": "text/x-python",
   "name": "python",
   "nbconvert_exporter": "python",
   "pygments_lexer": "ipython3",
   "version": "3.10.12"
  }
 },
 "nbformat": 4,
 "nbformat_minor": 2
}
