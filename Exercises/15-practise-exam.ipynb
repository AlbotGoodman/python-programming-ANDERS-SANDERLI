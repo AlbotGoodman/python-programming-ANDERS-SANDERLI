{
 "cells": [
  {
   "cell_type": "markdown",
   "metadata": {},
   "source": [
    "# Python Programming Exam\n",
    "Responsible teacher: [Teacher's name]\n",
    "Max points: 20p. Pass: 9p. High Pass: 15p.\n",
    "Date: [Exam date]\n",
    "\n",
    "All answers must be justified for full points. Good luck!\n",
    "\n",
    "### 1. Look at the following code:\n",
    "```python\n",
    "import matplotlib.pyplot as plt\n",
    "x = list(range(5))\n",
    "y = [i * 2 for i in x]\n",
    "fig, ax = plt.subplots()\n",
    "ax.plot(x, y)\n",
    "ax.set(title=\"My Plot\", xlabel=\"x\", ylabel=\"y\")\n",
    "```\n",
    "Describe what the code does and what will be plotted. (3p)\n",
    "\n"
   ]
  },
  {
   "cell_type": "markdown",
   "metadata": {},
   "source": []
  },
  {
   "cell_type": "markdown",
   "metadata": {},
   "source": [
    "### 2. What will be printed by this code? (3p)\n",
    "```python\n",
    "animals = [\"cat\", \"dog\", \"bird\"]\n",
    "pet = animals[1]\n",
    "print(pet[-1])\n",
    "```\n",
    "\n"
   ]
  },
  {
   "cell_type": "markdown",
   "metadata": {},
   "source": []
  },
  {
   "cell_type": "markdown",
   "metadata": {},
   "source": [
    "### 3. Look at this code that produces an error:\n",
    "```python\n",
    "def print_info(text):\n",
    "    words = text.split()\n",
    "    for i in words:\n",
    "        print(f\"{int(i[0])}: {i[1:]}\")\n",
    "\n",
    "A = \"1cat 2dog\"\n",
    "print_info(A)\n",
    "```\n",
    "a) Which line causes the error? (1p)\n",
    "b) Explain why it gives an error. (2p)\n",
    "\n"
   ]
  },
  {
   "cell_type": "markdown",
   "metadata": {},
   "source": []
  },
  {
   "cell_type": "markdown",
   "metadata": {},
   "source": [
    "### 4. Study this code:\n",
    "```python\n",
    "numbers = [1, 2, 3, 4, 5]\n",
    "result = []\n",
    "for n in numbers:\n",
    "    if n % 2 == 0:\n",
    "        result.append(n * 2)\n",
    "print(result)\n",
    "```\n",
    "a) What will be printed? (2p)\n",
    "b) Explain what the code does step by step. (3p)\n",
    "\n"
   ]
  },
  {
   "cell_type": "markdown",
   "metadata": {},
   "source": []
  },
  {
   "cell_type": "markdown",
   "metadata": {},
   "source": [
    "### 5. Look at these two different ways to create a list:\n",
    "```python\n",
    "# Method A\n",
    "squares1 = []\n",
    "for i in range(4):\n",
    "    squares1.append(i ** 2)\n",
    "\n",
    "# Method B\n",
    "squares2 = [i ** 2 for i in range(4)]\n",
    "```\n",
    "a) Will squares1 and squares2 contain the same values? (2p)\n",
    "b) Explain the difference between these two approaches. (2p)\n",
    "\n"
   ]
  },
  {
   "cell_type": "markdown",
   "metadata": {},
   "source": []
  },
  {
   "cell_type": "markdown",
   "metadata": {},
   "source": [
    "### 6. Consider this dictionary operation:\n",
    "```python\n",
    "scores = {\"Alice\": 85}\n",
    "student = \"Bob\"\n",
    "if student in scores:\n",
    "    print(scores[student])\n",
    "else:\n",
    "    print(\"No score\")\n",
    "```\n",
    "What will be printed and why? Explain how the dictionary lookup works. (2p)\n",
    "\n",
    "Remember to justify all your answers for full points!"
   ]
  }
 ],
 "metadata": {
  "language_info": {
   "name": "python"
  }
 },
 "nbformat": 4,
 "nbformat_minor": 2
}
