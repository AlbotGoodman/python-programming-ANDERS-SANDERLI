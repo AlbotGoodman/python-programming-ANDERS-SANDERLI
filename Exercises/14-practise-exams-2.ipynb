{
 "cells": [
  {
   "cell_type": "markdown",
   "metadata": {},
   "source": [
    "# Python Programming Exam 2\n",
    "Max points: 20p\n",
    "Pass: 9p\n",
    "High Pass: 15p\n",
    "Time: 2 hours\n",
    "\n",
    "### 1. Implement a function that finds duplicates (4p):\n",
    "```python\n",
    "def find_duplicates(items):\n",
    "    \"\"\"\n",
    "    Given a list of items, return a list of items that appear more than once.\n",
    "    Your solution should have O(n) time complexity.\n",
    "    Example: [1, 2, 2, 3, 4, 4, 5] → [2, 4]\n",
    "    \"\"\"\n",
    "    pass  # Implement your solution here\n",
    "```"
   ]
  },
  {
   "cell_type": "markdown",
   "metadata": {},
   "source": [
    "Answer: "
   ]
  },
  {
   "cell_type": "markdown",
   "metadata": {},
   "source": [
    "### 2. Consider this dictionary operation (3p):\n",
    "```python\n",
    "cache = {}\n",
    "def get_or_compute(key, computation):\n",
    "    if key not in cache:\n",
    "        cache[key] = computation()\n",
    "    return cache[key]\n",
    "```\n",
    "a) What design pattern does this implement?\n",
    "b) What are potential issues with this implementation?\n",
    "c) How would you make it thread-safe?"
   ]
  },
  {
   "cell_type": "markdown",
   "metadata": {},
   "source": [
    "Answer: "
   ]
  },
  {
   "cell_type": "markdown",
   "metadata": {},
   "source": [
    "### 3. Analyze this sorting algorithm (5p):\n",
    "```python\n",
    "def mystery_sort(arr):\n",
    "    n = len(arr)\n",
    "    for i in range(n):\n",
    "        for j in range(0, n-i-1):\n",
    "            if arr[j] > arr[j+1]:\n",
    "                arr[j], arr[j+1] = arr[j+1], arr[j]\n",
    "```\n",
    "a) What sorting algorithm is this?\n",
    "b) What is its time complexity? Explain why.\n",
    "c) Write a test case that would represent its worst-case scenario.\n",
    "d) How could you optimize it for already nearly-sorted lists?"
   ]
  },
  {
   "cell_type": "markdown",
   "metadata": {},
   "source": [
    "Answer: "
   ]
  },
  {
   "cell_type": "markdown",
   "metadata": {},
   "source": [
    "### 4. Compare Sets and Lists (4p):\n",
    "Write a program that compares the performance of sets versus lists for:\n",
    "- Adding 1000 elements\n",
    "- Checking if an element exists\n",
    "- Removing elements\n",
    "Include timing measurements and explain the results."
   ]
  },
  {
   "cell_type": "markdown",
   "metadata": {},
   "source": [
    "Answer: "
   ]
  },
  {
   "cell_type": "markdown",
   "metadata": {},
   "source": [
    "### 5. Working with JSON (4p):\n",
    "```python\n",
    "import json\n",
    "\n",
    "data = {\n",
    "    \"users\": [\n",
    "        {\"name\": \"Alice\", \"age\": 25, \"roles\": [\"admin\", \"user\"]},\n",
    "        {\"name\": \"Bob\", \"age\": 30, \"roles\": [\"user\"]},\n",
    "        {\"name\": \"Charlie\", \"age\": 35, \"roles\": [\"user\"]}\n",
    "    ]\n",
    "}\n",
    "```\n",
    "Write functions to:\n",
    "a) Find all users with a specific role\n",
    "b) Calculate average age of users\n",
    "c) Add a new user while maintaining JSON structure\n",
    "d) Remove a user by name\n",
    "\n",
    "Show proper error handling and input validation.\n",
    "\n",
    "Remember to justify all your answers for full points. Good luck!"
   ]
  },
  {
   "cell_type": "markdown",
   "metadata": {},
   "source": [
    "Answer: "
   ]
  }
 ],
 "metadata": {
  "language_info": {
   "name": "python"
  }
 },
 "nbformat": 4,
 "nbformat_minor": 2
}
