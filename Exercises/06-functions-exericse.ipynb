{
 "cells": [
  {
   "cell_type": "markdown",
   "metadata": {},
   "source": [
    "\n",
    "<a href=\"https://colab.research.google.com/github/pr0fez/AI24-Programmering/blob/master/Exercises/06-functions-exericse.ipynb\" target=\"_parent\"><img align=\"left\" src=\"https://colab.research.google.com/assets/colab-badge.svg\" alt=\"Open In Colab\"/></a> &nbsp; to see hints and answers."
   ]
  },
  {
   "cell_type": "markdown",
   "metadata": {},
   "source": [
    "# functions exercises\n",
    "\n",
    "---\n",
    "These are introductory exercises in Python with focus in **functions**.\n",
    "\n",
    "<p class = \"alert alert-info\" role=\"alert\"><b>Remember</b> to use <b>descriptive variable and function names</b> in order to get readable code </p>\n",
    "\n",
    "<p class = \"alert alert-info\" role=\"alert\"><b>Remember</b> to format your answers in a neat way using <b>f-strings</b>\n",
    "\n",
    "<p class = \"alert alert-info\" role=\"alert\"><b>Remember</b> to format your input questions in a pedagogical way to guide the user\n",
    "\n",
    "The number of stars (\\*), (\\*\\*), (\\*\\*\\*) denotes the difficulty level of the task\n",
    "\n",
    "---"
   ]
  },
  {
   "cell_type": "markdown",
   "metadata": {},
   "source": [
    "## 1. Area (*)\n",
    "\n",
    "Create a function that takes the base and height of a triangle as input parameters and returns the area of the triangle."
   ]
  },
  {
   "cell_type": "code",
   "execution_count": 3,
   "metadata": {},
   "outputs": [
    {
     "name": "stdout",
     "output_type": "stream",
     "text": [
      "The area of the triangle is 238.0 units.\n"
     ]
    }
   ],
   "source": [
    "def tri_a(b, h):\n",
    "    a = (b * h) / 2\n",
    "    return a\n",
    "\n",
    "\n",
    "base = 14\n",
    "height = 34\n",
    "\n",
    "triangle_area = tri_a(base, height)\n",
    "print(f\"The area of the triangle is {triangle_area} units.\")"
   ]
  },
  {
   "cell_type": "markdown",
   "metadata": {},
   "source": [
    "---\n",
    "\n",
    "## 2. Euclidean distance (*)\n",
    "\n",
    "The formula for Euclidean distance in 2D between $P: (p_1, p_2)$ and $Q: (q_1, q_2)$  is: \n",
    "\n",
    "$d(P,Q) = \\sqrt{(p_1-q_1)^2 + (p_2-q_2)^2}$\n",
    "\n",
    "&nbsp; a) &nbsp; Create a function that takes two points as input parameters and return the Euclidean between them. (*)\n",
    "\n",
    "&nbsp; b) &nbsp; Let the user input two points. Call the function using the users input points. (*)\n",
    "\n",
    "&nbsp; c) &nbsp; Use your function to calculate distances between the origin (0, 0) and each of these points: (10, 3), (-1, -9), (10, -10), (4, -2), (9, -10). (*)\n",
    "\n",
    "<details>\n",
    "\n",
    "<summary>Hint</summary>\n",
    "\n",
    "Use a **for** statement\n",
    "\n",
    "</details>\n",
    "<br>\n",
    "<details>\n",
    "\n",
    "<summary>Answer</summary>\n",
    "\n",
    "c)\n",
    "\n",
    "```\n",
    "[10.4, 9.1, 14.1, 4.5, 13.5]\n",
    "```\n",
    "\n",
    "</details>\n"
   ]
  },
  {
   "cell_type": "code",
   "execution_count": 34,
   "metadata": {},
   "outputs": [
    {
     "name": "stdout",
     "output_type": "stream",
     "text": [
      "Exercise 2.a)\n",
      "If P = (3, 5), Q = (-2, 4) then the Euclidean distance is 5.10 l.u.\n",
      "\n",
      "Exercise 2.b)\n",
      "Ange koordinaterna för P (p1, p2) och Q (q1, q2).\n",
      "If P = (3, 5), Q = (6, 4) then the Euclidean distance is 3.16 l.u.\n",
      "\n",
      "Exercise 2.c)\n",
      "The distance from origo (0, 0) is:\n",
      "... 10.44 l.u. from the points (10, 3)\n",
      "... 9.06 l.u. from the points (-1, -9)\n",
      "... 14.14 l.u. from the points (10, -10)\n",
      "... 4.47 l.u. from the points (4, -2)\n",
      "... 13.45 l.u. from the points (9, -10)\n"
     ]
    }
   ],
   "source": [
    "#\n",
    "# Jävligt trött här men detta går att göra bättre. \n",
    "#\n",
    "\n",
    "\n",
    "import numpy as np\n",
    "\n",
    "\n",
    "def E_dist_2D(P, Q):\n",
    "    d = np.sqrt((np.square(P[0] - Q[0])) + (np.square(P[1] - Q[1])))\n",
    "    return float(d)\n",
    "\n",
    "\n",
    "print(\"Exercise 2.a)\")\n",
    "\n",
    "P = (3, 5)\n",
    "Q = (-2, 4)\n",
    "\n",
    "answer = E_dist_2D(P, Q)\n",
    "\n",
    "print(f\"If P = {P}, Q = {Q} then the Euclidean distance is {answer:.2f} l.u.\")\n",
    "\n",
    "\n",
    "print(\"\\nExercise 2.b)\")\n",
    "\n",
    "print(\"Ange koordinaterna för P (p1, p2) och Q (q1, q2).\")\n",
    "p1 = int(input(\"Ange p1: \"))\n",
    "p2 = int(input(\"Ange p2: \"))\n",
    "q1 = int(input(\"Ange q1: \"))\n",
    "q2 = int(input(\"Ange q2: \"))\n",
    "P_new = (p1, p2)\n",
    "Q_new = (q1, q2)\n",
    "\n",
    "answer_2 = E_dist_2D(P_new, Q_new)\n",
    "\n",
    "print(f\"If P = {P_new}, Q = {Q_new} then the Euclidean distance is {answer_2:.2f} l.u.\")\n",
    "\n",
    "\n",
    "print(\"\\nExercise 2.c)\")\n",
    "\n",
    "origo = (0, 0)\n",
    "points_list = [(10, 3), (-1, -9), (10, -10), (4, -2), (9, -10)]\n",
    "\n",
    "Eucli_dist = [E_dist_2D(origo, i) for i in points_list] \n",
    "\n",
    "print(f\"The distance from origo {origo} is:\")\n",
    "for i in range(len(points_list)):\n",
    "    print(f\"... {Eucli_dist[i]:.2f} l.u. from the points {points_list[i]}\")"
   ]
  },
  {
   "cell_type": "markdown",
   "metadata": {},
   "source": [
    "---\n",
    "## 3. Mathematical functions (*)\n",
    "\n",
    "Make the following functions with **def** or **lambda** and plot their graphs in the same figure window, with $x\\in [-10,10]$ :\n",
    "\n",
    "&nbsp; a) &nbsp;  $f(x) = x^2 -3$ (*)\n",
    "\n",
    "&nbsp; b) &nbsp; $g(x) = 4x-7$ (*)\n",
    "\n",
    "What could the relation between $f(x)$ and $g(x)$ be?\n",
    "\n",
    "<details>\n",
    "\n",
    "<summary>Hint</summary>\n",
    "Use numpy's linspace function:\n",
    "\n",
    "```python\n",
    "import numpy as np\n",
    "x = np.linspace(-10,10)\n",
    "```\n",
    "\n",
    "[Derivative video][derivative_video] (Swedish)\n",
    "\n",
    "[Derivative of polynomials][derivative_polynomial] (Swedish)\n",
    "\n",
    "[derivative_video]: https://www.youtube.com/watch?v=hzXJxOXkU_M\n",
    "[derivative_polynomial]: https://www.youtube.com/watch?v=dFnro1sBn1Y\n",
    "\n",
    "</details>\n",
    "<br>\n",
    "<details>\n",
    "\n",
    "<summary>Answer</summary>\n",
    "\n",
    "<img align=\"left\" src=\"../assets/functions_graph.png\" width=\"200\"/>\n",
    "\n",
    "</details>\n"
   ]
  },
  {
   "cell_type": "code",
   "execution_count": 49,
   "metadata": {},
   "outputs": [
    {
     "data": {
      "image/png": "[encoded data removed]",
      "text/plain": [
       "<Figure size 640x480 with 1 Axes>"
      ]
     },
     "metadata": {},
     "output_type": "display_data"
    }
   ],
   "source": [
    "import numpy as np\n",
    "import matplotlib.pyplot as plt\n",
    "\n",
    "\n",
    "def func_1(x):\n",
    "    y = np.square(x) - 3\n",
    "    return y\n",
    "\n",
    "\n",
    "def func_2(x):\n",
    "    y = (4 * x) - 7\n",
    "    return y\n",
    "\n",
    "\n",
    "x = np.linspace(-10, 10)\n",
    "\n",
    "plt.style.use(\"fivethirtyeight\")\n",
    "plt.plot(x, func_1(x))\n",
    "plt.plot(x, func_2(x))\n",
    "plt.show()"
   ]
  },
  {
   "cell_type": "markdown",
   "metadata": {},
   "source": [
    "---\n",
    "## 4. Name cleaner (*)\n",
    "\n",
    "Create a function that takes a name as an input and:\n",
    "\n",
    "- removes all leading and trailing blank spaces\n",
    "- make capitalize the first character of each name, and make the rest lowercase\n",
    "\n",
    "Use your function on this list of strings: \n",
    "\n",
    "```\n",
    "[\"  MaRcUs \", \" iDA aNderSon\", \"OLOF Olofsson            \"  ]\n",
    "```\n",
    "\n",
    "\n",
    "<details>\n",
    "\n",
    "<summary>Hint</summary>\n",
    "Use \n",
    "\n",
    "- [title() method][str_title]\n",
    "- [strip() method][str_strip]\n",
    "- [join() method][str_join]\n",
    "- [split() method][str_split]\n",
    "\n",
    "[str_title]: https://www.w3schools.com/python/ref_string_title.asp\n",
    "[str_strip]: https://www.w3schools.com/python/ref_string_strip.asp\n",
    "[str_join]: https://www.w3schools.com/python/ref_string_join.asp\n",
    "[str_split]: https://www.w3schools.com/python/ref_string_split.asp \n",
    "\n",
    "</details>\n",
    "<br>\n",
    "<details>\n",
    "\n",
    "<summary>Answer</summary>\n",
    "\n",
    "```\n",
    "Marcus\n",
    "Ida Anderson\n",
    "Olof Olofsson\n",
    "```\n",
    "\n",
    "</details>\n"
   ]
  },
  {
   "cell_type": "code",
   "execution_count": 8,
   "metadata": {},
   "outputs": [
    {
     "name": "stdout",
     "output_type": "stream",
     "text": [
      "Marcus Ida Anderson Olof Olofsson "
     ]
    }
   ],
   "source": [
    "# strip()           removes any leading, and trailing whitespaces\n",
    "# title()           makes the first letter in each word uppercase\n",
    "# join()            takes all items in an iterable and joins them into one string\n",
    "# split() ???       splits a string into a list\n",
    "\n",
    "\n",
    "def formalisera(namn_in):\n",
    "    ls = []\n",
    "    namn_ut = []\n",
    "    if type(namn_in) is str:\n",
    "        ls.append(namn_in)\n",
    "    elif type(namn_in) is list:\n",
    "        ls = namn_in\n",
    "    # först en vanlig for loop sen testa list comprehension\n",
    "    for i in ls:\n",
    "        i = i.strip()\n",
    "        i = i.casefold()\n",
    "        i = i.title()\n",
    "        namn_ut.append(i)\n",
    "    return namn_ut\n",
    "\n",
    "mellanslag = \" \"\n",
    "# namn = \"  andeRS SAndErli  \"\n",
    "namn = [\" MaRcUs \", \" iDA aNderSon\", \"OLOF Olofsson \"]\n",
    "\n",
    "fixat = formalisera(namn)\n",
    "for i in fixat:\n",
    "    print(i)"
   ]
  },
  {
   "cell_type": "markdown",
   "metadata": {},
   "source": [
    "---\n",
    "## 5. Change (**)\n",
    "\n",
    "Create a function that takes a value as input parameter and print out the banknotes and coins in Swedish currency representing this value. For example 5289 would give the following printout: \n",
    "\n",
    "- 5st 1000-lapp\n",
    "- 1st 200-lapp\n",
    "- 1st 50-lapp\n",
    "- 1st 20-lapp\n",
    "- 1st 10-krona\n",
    "- 1st 5-krona\n",
    "- 2st 2-krona\n",
    "\n",
    "Now let the user input a value, and use the function to calculate the change."
   ]
  },
  {
   "cell_type": "code",
   "execution_count": 84,
   "metadata": {},
   "outputs": [
    {
     "name": "stdout",
     "output_type": "stream",
     "text": [
      "0\n",
      "1\n",
      "2\n",
      "3\n"
     ]
    }
   ],
   "source": [
    "def växel(värde):\n",
    "    längd = str(värde)\n",
    "    for i in range(len(längd)):\n",
    "        for j in värde[::-i]:\n",
    "            if j \n",
    "\n",
    "\n",
    "värde = 5289\n",
    "kontanter = växel(värde)\n",
    "\n",
    "# modulo\n",
    "# counting backwards\n",
    "\n",
    "## sedlar\n",
    "tusen = \"1000-kronorssedel\"\n",
    "femhundra = \"500-kronorssedel\"\n",
    "tvåhundra = \"200-kronorssedel\"\n",
    "etthundra = \"100-kronorssedel\"\n",
    "femtio = \"50-kronorssedel\"\n",
    "tjugo = \"20-kronorssedel\"\n",
    "\n",
    "## mynt\n",
    "tio = \"10-krona\"\n",
    "fem = \"5-krona\"\n",
    "två = \"2-krona\"\n",
    "ett = \"1-krona\""
   ]
  },
  {
   "cell_type": "markdown",
   "metadata": {},
   "source": [
    "---\n",
    "\n",
    "pr0fez Giang\n",
    "\n",
    "[LinkedIn][linkedIn_pr0fez]\n",
    "\n",
    "[GitHub portfolio][github_portfolio]\n",
    "\n",
    "[linkedIn_pr0fez]: https://www.linkedin.com/in/pr0fezgiang/\n",
    "[github_portfolio]: https://github.com/pr0fez/Portfolio-pr0fez-Giang\n",
    "\n",
    "---"
   ]
  }
 ],
 "metadata": {
  "kernelspec": {
   "display_name": "Python 3.9.6 64-bit",
   "language": "python",
   "name": "python3"
  },
  "language_info": {
   "codemirror_mode": {
    "name": "ipython",
    "version": 3
   },
   "file_extension": ".py",
   "mimetype": "text/x-python",
   "name": "python",
   "nbconvert_exporter": "python",
   "pygments_lexer": "ipython3",
   "version": "3.10.12"
  },
  "orig_nbformat": 4,
  "vscode": {
   "interpreter": {
    "hash": "0da836a34428266995a795f1e1e27b816fa1c02f148d9728b3fbbbc5459afca6"
   }
  }
 },
 "nbformat": 4,
 "nbformat_minor": 2
}
