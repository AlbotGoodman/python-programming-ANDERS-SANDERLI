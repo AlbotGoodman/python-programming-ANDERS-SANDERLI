{
 "cells": [
  {
   "cell_type": "markdown",
   "metadata": {},
   "source": [
    "# Python Programming Exam 1\n",
    "Max points: 20p\n",
    "Pass: 9p\n",
    "High Pass: 15p\n",
    "Time: 2 hours\n",
    "\n",
    "### 1. Consider the following code (3p):\n",
    "```python\n",
    "x = 5\n",
    "y = [1, 2, 3]\n",
    "y.append(x)\n",
    "x = 6\n",
    "print(y[-1])\n",
    "```\n",
    "What will be printed and why? Explain the concept of references vs values in Python."
   ]
  },
  {
   "cell_type": "markdown",
   "metadata": {},
   "source": [
    "Answer: "
   ]
  },
  {
   "cell_type": "markdown",
   "metadata": {},
   "source": [
    "### 2. Write a function that implements the following logic (4p):\n",
    "- Takes a list of numbers as input\n",
    "- Returns True if any three consecutive numbers sum to exactly 10\n",
    "- Returns False otherwise\n",
    "Example: [1, 2, 7, 4, 5, 1] should return True because 2+7+4=13"
   ]
  },
  {
   "cell_type": "markdown",
   "metadata": {},
   "source": [
    "Answer: "
   ]
  },
  {
   "cell_type": "markdown",
   "metadata": {},
   "source": [
    "### 3. Debug the following code (4p):\n",
    "```python\n",
    "def calculate_average(grades):\n",
    "    total = 0\n",
    "    count = 0\n",
    "    for grade in grades:\n",
    "        if grade >= 0:\n",
    "            total += grade\n",
    "        count += 1\n",
    "    return total / count\n",
    "\n",
    "# Test cases that produce wrong results:\n",
    "print(calculate_average([10, -5, 15, 20]))  # Should ignore negative numbers\n",
    "print(calculate_average([]))  # Should handle empty lists\n",
    "```\n",
    "Identify and fix all bugs. Explain your changes."
   ]
  },
  {
   "cell_type": "markdown",
   "metadata": {},
   "source": [
    "Answer: "
   ]
  },
  {
   "cell_type": "markdown",
   "metadata": {},
   "source": [
    "### 4. Given this class definition (5p):\n",
    "```python\n",
    "class Library:\n",
    "    def __init__(self):\n",
    "        self.books = {}\n",
    "        \n",
    "    def add_book(self, title, copies):\n",
    "        self.books[title] = copies\n",
    "        \n",
    "    def borrow_book(self, title):\n",
    "        if title in self.books:\n",
    "            if self.books[title] > 0:\n",
    "                self.books[title] -= 1\n",
    "                return True\n",
    "        return False\n",
    "```\n",
    "a) What are the potential issues with this implementation?\n",
    "b) How would you improve it to handle:\n",
    "   - Case-insensitive titles\n",
    "   - Multiple copies of the same book\n",
    "   - Track who borrowed which book"
   ]
  },
  {
   "cell_type": "markdown",
   "metadata": {},
   "source": [
    "Answer: "
   ]
  },
  {
   "cell_type": "markdown",
   "metadata": {},
   "source": [
    "### 5. Explain the difference between these two code blocks (4p):\n",
    "```python\n",
    "# Block A\n",
    "numbers = range(1, 6)\n",
    "squares = []\n",
    "for n in numbers:\n",
    "    squares.append(n ** 2)\n",
    "\n",
    "# Block B\n",
    "numbers = range(1, 6)\n",
    "squares = [n ** 2 for n in numbers]\n",
    "```\n",
    "Discuss:\n",
    "- Which is more \"Pythonic\"?\n",
    "- Performance implications\n",
    "- Readability considerations\n",
    "- When would you use each approach?\n",
    "\n",
    "Remember to justify all your answers for full points. Good luck!"
   ]
  },
  {
   "cell_type": "markdown",
   "metadata": {},
   "source": [
    "Answer: "
   ]
  }
 ],
 "metadata": {
  "kernelspec": {
   "display_name": ".venv",
   "language": "python",
   "name": "python3"
  },
  "language_info": {
   "name": "python",
   "version": "3.12.7"
  }
 },
 "nbformat": 4,
 "nbformat_minor": 2
}
