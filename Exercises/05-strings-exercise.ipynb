{
 "cells": [
  {
   "cell_type": "markdown",
   "metadata": {},
   "source": [
    "<a href=\"https://colab.research.google.com/github/pr0fez/AI24-Programmering/blob/master/Exercises/05-strings-exercise.ipynb\" target=\"_parent\"><img align=\"left\" src=\"https://colab.research.google.com/assets/colab-badge.svg\" alt=\"Open In Colab\"/></a> &nbsp; to see hints and answers."
   ]
  },
  {
   "cell_type": "markdown",
   "metadata": {},
   "source": [
    "# strings exercises\n",
    "\n",
    "---\n",
    "These are introductory exercises in Python with focus in **strings**.\n",
    "\n",
    "<p class = \"alert alert-info\" role=\"alert\"><b>Remember</b> to use <b>descriptive variable names</b> in order to get readable code </p>\n",
    "\n",
    "<p class = \"alert alert-info\" role=\"alert\"><b>Remember</b> to format your answers in a neat way using <b>f-strings</b>\n",
    "\n",
    "<p class = \"alert alert-info\" role=\"alert\"><b>Remember</b> to format your input questions in a pedagogical way to guide the user\n",
    "\n",
    "The number of stars (\\*), (\\*\\*), (\\*\\*\\*) denotes the difficulty level of the task\n",
    "\n",
    "---"
   ]
  },
  {
   "cell_type": "markdown",
   "metadata": {},
   "source": [
    "## 1. Counting letters (*)\n",
    "\n",
    "Let the user input a word: \n",
    "\n",
    "&nbsp; a) &nbsp; print out the number of letters in the word. (*) \n",
    "  \n",
    "&nbsp; b) &nbsp; print out the number of **uppercase** and **lowercase** letters of the word (*)   \n"
   ]
  },
  {
   "cell_type": "code",
   "execution_count": 35,
   "metadata": {},
   "outputs": [
    {
     "name": "stdout",
     "output_type": "stream",
     "text": [
      "Exercise 1.a)\n",
      "\n",
      "That's not a word, that's a sentence.\n",
      "I'll count the letters anyway. Just saying.\n",
      "\n",
      "There are 35 letters in 'Anders satt på Puta Madre och tog sig en IPA'.\n",
      "\n",
      "Exercise 1.b)\n",
      "\n",
      "There are 6 uppercase letters in 'Anders satt på Puta Madre och tog sig en IPA'.\n",
      "There are 29 lowercase letters in 'Anders satt på Puta Madre och tog sig en IPA'.\n",
      "\n"
     ]
    }
   ],
   "source": [
    "print(\"Exercise 1.a)\")\n",
    "print()\n",
    "\n",
    "word = input(\"Ange valfritt ord: \")\n",
    "length = 0\n",
    "\n",
    "if \" \" in word:\n",
    "    print(\"That's not a word, that's a sentence.\")\n",
    "    print(\"I'll count the letters anyway. Just saying.\")\n",
    "    print()\n",
    "    length = len(word.replace(\" \", \"\"))\n",
    "else:\n",
    "    length = len(word)\n",
    "\n",
    "print(f\"There are {length} letters in '{word}'.\")\n",
    "print()\n",
    "\n",
    "print(\"Exercise 1.b)\")\n",
    "print()\n",
    "\n",
    "word_upper = [letter for letter in word if letter.isupper()]\n",
    "word_lower = [letter for letter in word if letter.islower()]\n",
    "\n",
    "print(f\"There are {len(word_upper)} uppercase letters in '{word}'.\")\n",
    "print(f\"There are {len(word_lower)} lowercase letters in '{word}'.\")\n",
    "print()\n"
   ]
  },
  {
   "cell_type": "markdown",
   "metadata": {},
   "source": [
    "---\n",
    "## 2. Counting words (*)\n",
    "\n",
    "Count the number of words in this sentence: \"A picture says more than a thousand words, a matematical formula says more than a thousand pictures.\" (*) \n",
    "\n",
    "<details>\n",
    "\n",
    "<summary>Answer</summary>\n",
    "\n",
    "```\n",
    "There are 17 words in that sentence\n",
    "```"
   ]
  },
  {
   "cell_type": "code",
   "execution_count": 16,
   "metadata": {},
   "outputs": [
    {
     "name": "stdout",
     "output_type": "stream",
     "text": [
      "The number of words in the sentence is 17.\n"
     ]
    }
   ],
   "source": [
    "sentence = \"A picture says more than a thousand words, a matematical formula says more than a thousand pictures.\"\n",
    "\n",
    "word_list = sentence.split(\" \")\n",
    "print(f\"The number of words in the sentence is {len(word_list)}.\")"
   ]
  },
  {
   "cell_type": "markdown",
   "metadata": {},
   "source": [
    "---\n",
    "## 3. Palindrome (*)\n",
    "\n",
    "A palindrome is a sequence of characters that is the same, when read forward as backwards (ignoring spaces). For example:\n",
    "- \"Anna\" is a palindrome\n",
    "- \"Ni talar bra latin\"\n",
    "- bjkjb \n",
    "\n",
    "Let the user input a sequence of characters and check if it is a palindrome. (*)"
   ]
  },
  {
   "cell_type": "code",
   "execution_count": 26,
   "metadata": {},
   "outputs": [
    {
     "name": "stdout",
     "output_type": "stream",
     "text": [
      "\n",
      "(Om vi bara bortser från ev mellanslag, versaler ...)\n",
      "      \n",
      "Ditt ord:  nitalarbralatin\n",
      "Baklänges: nitalarbralatin\n",
      "\n",
      "\"Ni talar bra latin\" är ett palindrom, hurra!\n"
     ]
    }
   ],
   "source": [
    "mening = input(\"Skriv ett palindrom - eller inte: \")\n",
    "\n",
    "mening_tom = mening.replace(\" \", \"\")\n",
    "mening_tom = mening_tom.lower()\n",
    "baklänges = reversed(mening_tom)\n",
    "baklänges_str = \"\"\n",
    "\n",
    "for letter in baklänges:\n",
    "    baklänges_str += letter\n",
    "\n",
    "print(f\"\"\"\n",
    "(Om vi bara bortser från ev mellanslag, versaler ...)\n",
    "      \n",
    "Ditt ord:  {mening_tom}\n",
    "Baklänges: {baklänges_str}\n",
    "\"\"\")\n",
    "\n",
    "if mening_tom == baklänges_str:\n",
    "    print(f\"\\\"{mening}\\\" är ett palindrom, hurra!\")\n",
    "else:\n",
    "    print(f\"\\\"{mening}\\\" är inte ett palindrom.\")"
   ]
  },
  {
   "cell_type": "markdown",
   "metadata": {},
   "source": [
    "---\n",
    "## 4. Vowels (**)\n",
    "\n",
    "Count the number of vowels in this sentence: \"Pure mathematics is, in its way, the poetry of logical ideas\"\n",
    "\n",
    "<details>\n",
    "\n",
    "<summary>Answer</summary>\n",
    "\n",
    "```\n",
    "\n",
    "There are 22 vowels in this sentence\n",
    "\n",
    "```\n",
    "</details>"
   ]
  },
  {
   "cell_type": "code",
   "execution_count": 12,
   "metadata": {},
   "outputs": [
    {
     "name": "stdout",
     "output_type": "stream",
     "text": [
      "'Pure mathematics is, in its way, the poetry of logical ideas'\n",
      "There are 22 vowels in the above sentence.\n"
     ]
    }
   ],
   "source": [
    "sentence = \"Pure mathematics is, in its way, the poetry of logical ideas\"\n",
    "vowels = [\"a\", \"e\", \"i\", \"o\", \"u\", \"y\"]\n",
    "\n",
    "# n = [letter for letter in sentence if letter in vowels]                 # First attempt\n",
    "v_count = sum(sentence.count(vowel) for vowel in vowels)                  # Second attempt\n",
    "\n",
    "print(f\"'{sentence}'\")\n",
    "# print(f\"There are {len(n)} vowels in the above sentence.\")              # First attempt\n",
    "print(f\"There are {v_count} vowels in the above sentence.\")               # Second attempt"
   ]
  },
  {
   "cell_type": "markdown",
   "metadata": {},
   "source": [
    "---\n",
    "## 5. Encryption (**)\n",
    "\n",
    "Let the user input a word and: \n",
    "\n",
    "&nbsp; a) &nbsp; encrypt the message by replacing each letter with the next letter. If the letter is in the end of the alphabet, use the first letter instead. \n",
    "\n",
    "e.g. in Swedish: \"höst\" $\\rightarrow$ \"iatu\"\n",
    "\n",
    "&nbsp; b) &nbsp; decrypt the message\n",
    "\n",
    "&nbsp; c) &nbsp; let the user choose either encryption or decryption."
   ]
  },
  {
   "cell_type": "code",
   "execution_count": 9,
   "metadata": {},
   "outputs": [
    {
     "name": "stdout",
     "output_type": "stream",
     "text": [
      "The decrypted password is: Ydmz\n"
     ]
    }
   ],
   "source": [
    "upper = [chr(i) for i in range(65, 91)]\n",
    "lower = [letter.casefold() for letter in upper]\n",
    "alphabet_total = [item for pair in zip(upper, lower) for item in pair]              # jag hänger inte med på hur det fungerar\n",
    "# alphabet_total = [(A, a) for A in upper for a in lower]                             # borde det inte gå att göra något såhär?\n",
    "\n",
    "\n",
    "def encrypt(string):\n",
    "    e2ee = \"\"\n",
    "    c = 0\n",
    "    index = 0\n",
    "    for i in string:\n",
    "        if i in upper:\n",
    "            if i == \"Z\":\n",
    "                e2ee += \"A\"\n",
    "            else:\n",
    "                index = upper.index(i)\n",
    "                e2ee += upper[index+1]\n",
    "        elif i in lower:\n",
    "            if i == \"z\":\n",
    "                e2ee += \"a\"\n",
    "            else:\n",
    "                index = lower.index(i)\n",
    "                e2ee += lower[index+1]\n",
    "    return e2ee\n",
    "\n",
    "\n",
    "def decrypt(string):\n",
    "    e2ee = \"\"\n",
    "    c = 0\n",
    "    index = 0\n",
    "    for i in string:\n",
    "        if i in upper:\n",
    "            if i == \"A\":\n",
    "                e2ee += \"Z\"\n",
    "            else:\n",
    "                index = upper.index(i)\n",
    "                e2ee += upper[index-1]\n",
    "        elif i in lower:\n",
    "            if i == \"a\":\n",
    "                e2ee += \"z\"\n",
    "            else:\n",
    "                index = lower.index(i)\n",
    "                e2ee += lower[index-1]\n",
    "    return e2ee\n",
    "\n",
    "\n",
    "password = str(input(\"Enter a password: \"))\n",
    "choice = str(input(\"Do you want to encrypt or decrypt the password? (e/d): \"))\n",
    "\n",
    "if choice == \"e\":\n",
    "    print(f\"The encrypted password is: {encrypt(password)}\")\n",
    "elif choice == \"d\":\n",
    "    print(f\"The decrypted password is: {decrypt(password)}\")\n",
    "else:\n",
    "    print(\"Invalid input. Error. Shutting down.\")"
   ]
  },
  {
   "cell_type": "markdown",
   "metadata": {},
   "source": [
    "---\n",
    "\n",
    "pr0fez Giang\n",
    "\n",
    "[LinkedIn][linkedIn_pr0fez]\n",
    "\n",
    "[GitHub portfolio][github_portfolio]\n",
    "\n",
    "[linkedIn_pr0fez]: https://www.linkedin.com/in/pr0fezgiang/\n",
    "[github_portfolio]: https://github.com/pr0fez/Portfolio-pr0fez-Giang\n",
    "\n",
    "---"
   ]
  }
 ],
 "metadata": {
  "kernelspec": {
   "display_name": "Python 3.9.6 64-bit",
   "language": "python",
   "name": "python3"
  },
  "language_info": {
   "codemirror_mode": {
    "name": "ipython",
    "version": 3
   },
   "file_extension": ".py",
   "mimetype": "text/x-python",
   "name": "python",
   "nbconvert_exporter": "python",
   "pygments_lexer": "ipython3",
   "version": "3.10.12"
  },
  "orig_nbformat": 4,
  "vscode": {
   "interpreter": {
    "hash": "0da836a34428266995a795f1e1e27b816fa1c02f148d9728b3fbbbc5459afca6"
   }
  }
 },
 "nbformat": 4,
 "nbformat_minor": 2
}
