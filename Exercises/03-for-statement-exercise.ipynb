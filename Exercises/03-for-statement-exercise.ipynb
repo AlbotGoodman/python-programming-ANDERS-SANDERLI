{
 "cells": [
  {
   "cell_type": "markdown",
   "metadata": {},
   "source": [
    "<a href=\"https://colab.research.google.com/github/pr0fez/AI24-Programmering/blob/master/Exercises/03-for-statement-exercise.ipynb\" target=\"_parent\"><img align=\"left\" src=\"https://colab.research.google.com/assets/colab-badge.svg\" alt=\"Open In Colab\"/></a> &nbsp; to see hints and answers."
   ]
  },
  {
   "cell_type": "markdown",
   "metadata": {},
   "source": [
    "# for statement exercises\n",
    "\n",
    "---\n",
    "These are introductory exercises in Python with focus in **for** statement.\n",
    "\n",
    "<p class = \"alert alert-info\" role=\"alert\"><b>Remember</b> to use <b>descriptive variable names</b> in order to get readable code </p>\n",
    "\n",
    "<p class = \"alert alert-info\" role=\"alert\"><b>Remember</b> to format your answers in a neat way using <b>f-strings</b>\n",
    "\n",
    "<p class = \"alert alert-info\" role=\"alert\"><b>Remember</b> to format your input questions in a pedagogical way to guide the user\n",
    "\n",
    "The number of stars (\\*), (\\*\\*), (\\*\\*\\*) denotes the difficulty level of the task\n",
    "\n",
    "---"
   ]
  },
  {
   "cell_type": "markdown",
   "metadata": {},
   "source": [
    "## 1. Count numbers (*)\n",
    "\n",
    "Use a **for** statement to count from: \n",
    "\n",
    "&nbsp; a) &nbsp; -10 to 10 with one increment (*)\n",
    "\n",
    "&nbsp; b) &nbsp; -10 to 10 with two increment (*)\n",
    "\n",
    "<details>\n",
    "\n",
    "<summary>Answer </summary>\n",
    "\n",
    "```\n",
    "a) -10 -9 -8 -7 -6 -5 -4 -3 -2 -1 0 1 2 3 4 5 6 7 8 9 10\n",
    "\n",
    "b) -10  -8  -6  -4  -2  0  2  4  6  8  10\n",
    "```\n",
    "\n",
    "</details>\n",
    "\n"
   ]
  },
  {
   "cell_type": "code",
   "execution_count": 34,
   "metadata": {},
   "outputs": [
    {
     "name": "stdout",
     "output_type": "stream",
     "text": [
      "Exercies 1.a)\n",
      "-10 -9 -8 -7 -6 -5 -4 -3 -2 -1 0 1 2 3 4 5 6 7 8 9 10 \n",
      "\n",
      "Exercies 1.b)\n",
      "-10 -8 -6 -4 -2 0 2 4 6 8 10 "
     ]
    }
   ],
   "source": [
    "print(\"Exercies 1.a)\")\n",
    "for i in range(-10, 10+1):\n",
    "    print(i, end=\" \")\n",
    "\n",
    "print(\"\\n\")\n",
    "\n",
    "print(\"Exercies 1.b)\")\n",
    "for i in range(-10, 10+1, 2):\n",
    "    print(i, end=\" \")"
   ]
  },
  {
   "cell_type": "markdown",
   "metadata": {},
   "source": [
    "---\n",
    "## 2. Arithmetic sum (*)\n",
    "Use a **for** statement to compute the following sums: \n",
    "\n",
    "&nbsp; a) &nbsp; $\\text{sum} = 1 + 2 + \\ldots + 99+ 100$ (*)\n",
    "\n",
    "&nbsp; b) &nbsp; $\\text{sum} = 1 + 3 + 5 + \\ldots + 97 + 99$ (*)\n",
    "\n",
    "<details>\n",
    "\n",
    "<summary>Answer </summary>\n",
    "\n",
    "```\n",
    "a) 1 + 2 + ... + 99 + 100 = 5050 \n",
    "\n",
    "b) 1 + 3 + 5 +...+ 97 + 99 = 2500\n",
    "```\n",
    "\n",
    "</details>\n"
   ]
  },
  {
   "cell_type": "code",
   "execution_count": 47,
   "metadata": {},
   "outputs": [
    {
     "name": "stdout",
     "output_type": "stream",
     "text": [
      "Summan för a) är 5050\n",
      "Summan för b) är 2500\n"
     ]
    }
   ],
   "source": [
    "a = 0\n",
    "b = 0\n",
    "\n",
    "for i in range(1, 101):\n",
    "    a += i\n",
    "print(f\"Summan för a) är {a}\")\n",
    "\n",
    "for i in range(1, 100, 2):\n",
    "    b += i\n",
    "print(f\"Summan för b) är {b}\")"
   ]
  },
  {
   "cell_type": "markdown",
   "metadata": {},
   "source": [
    "---\n",
    "## 3. Multiplication table (*)\n",
    "Use **for** statement(s) to:\n",
    "\n",
    "&nbsp; a) &nbsp; print out the 6th multiplication table from 0 to 10 (*)\n",
    "\n",
    "&nbsp; b) &nbsp; let the user input the **table**, **start** and **end** of the table. (*)\n",
    "\n",
    "&nbsp; c) &nbsp; print out a full multiplication table from 0 to 10. (**)\n",
    "\n",
    "\n",
    "<details>\n",
    "\n",
    "<summary>Hint</summary>\n",
    "\n",
    "c) Use nested for-loops, which means a for-loop in a for-loop. To format the table nicely, use **f-string**: \n",
    "\n",
    "```python\n",
    "print(f\"{number :4}\", end = \"\")\n",
    "```\n",
    "\n",
    "\n",
    "</details>\n",
    "\n",
    "\n",
    "<details>\n",
    "\n",
    "<summary>Answer </summary>\n",
    "\n",
    "a)\n",
    "```\n",
    "0 6 12 18 24 30 36 42 48 54 60\n",
    "```\n",
    "\n",
    "b) e.g. \n",
    "\n",
    "```\n",
    "Which table are you interested in? 5\n",
    "Specify start of table: 5\n",
    "Specify end of table: 12\n",
    "\n",
    "Your 5th multiplication table from 5 to 12: 25 30 35 40 45 50 55 60\n",
    "```\n",
    "\n",
    "c)\n",
    "\n",
    "```\n",
    "   0   0   0   0   0   0   0   0   0   0   0\n",
    "   0   1   2   3   4   5   6   7   8   9  10\n",
    "   0   2   4   6   8  10  12  14  16  18  20\n",
    "   0   3   6   9  12  15  18  21  24  27  30\n",
    "   0   4   8  12  16  20  24  28  32  36  40\n",
    "   0   5  10  15  20  25  30  35  40  45  50\n",
    "   0   6  12  18  24  30  36  42  48  54  60\n",
    "   0   7  14  21  28  35  42  49  56  63  70\n",
    "   0   8  16  24  32  40  48  56  64  72  80\n",
    "   0   9  18  27  36  45  54  63  72  81  90\n",
    "   0  10  20  30  40  50  60  70  80  90 100\n",
    "```\n",
    "\n",
    "</details>"
   ]
  },
  {
   "cell_type": "code",
   "execution_count": 2,
   "metadata": {},
   "outputs": [
    {
     "name": "stdout",
     "output_type": "stream",
     "text": [
      "Övning 3.a)\n",
      "\n",
      "Multiplikationstabellen för sex:\n",
      "6 x 0 = 0\n",
      "6 x 1 = 6\n",
      "6 x 2 = 12\n",
      "6 x 3 = 18\n",
      "6 x 4 = 24\n",
      "6 x 5 = 30\n",
      "6 x 6 = 36\n",
      "6 x 7 = 42\n",
      "6 x 8 = 48\n",
      "6 x 9 = 54\n",
      "6 x 10 = 60\n",
      "\n",
      "Övning 3.b)\n",
      "\n",
      "Multiplikationstabellen för 5:\n",
      "5 x 2 = 10\n",
      "5 x 3 = 15\n",
      "5 x 4 = 20\n",
      "\n",
      "Övning 3.c)\n",
      "\n",
      "\n",
      "   0   0   0   0   0   0   0   0   0   0   0\n",
      "   0   1   2   3   4   5   6   7   8   9  10\n",
      "   0   2   4   6   8  10  12  14  16  18  20\n",
      "   0   3   6   9  12  15  18  21  24  27  30\n",
      "   0   4   8  12  16  20  24  28  32  36  40\n",
      "   0   5  10  15  20  25  30  35  40  45  50\n",
      "   0   6  12  18  24  30  36  42  48  54  60\n",
      "   0   7  14  21  28  35  42  49  56  63  70\n",
      "   0   8  16  24  32  40  48  56  64  72  80\n",
      "   0   9  18  27  36  45  54  63  72  81  90\n",
      "   0  10  20  30  40  50  60  70  80  90 100"
     ]
    }
   ],
   "source": [
    "# a) \n",
    "# Om nu tanken är att skriva ut sexans gångertabell\n",
    "\n",
    "multi_list = [0, 1, 2, 3, 4, 5, 6, 7, 8, 9, 10]\n",
    "\n",
    "print(\"Övning 3.a)\")\n",
    "print()\n",
    "print(\"Multiplikationstabellen för sex:\")\n",
    "\n",
    "for i in multi_list:\n",
    "    m = 6 * i\n",
    "    print(f\"6 x {i} = {m}\")\n",
    "\n",
    "# b)\n",
    "\n",
    "print()\n",
    "print(\"Övning 3.b)\")\n",
    "print()\n",
    "\n",
    "siffra = int(input(\"Vilken siffra vill du multiplicera? \"))\n",
    "mini = int(input(\"Från: \"))\n",
    "maxi = int(input(\"Till: \"))\n",
    "\n",
    "validation = input(f\"Du vill alltså multiplicera {siffra}, {maxi - mini} gånger, från {mini} till {maxi}? (Y/n) \")\n",
    "if validation == \"Y\" or \"y\": \n",
    "    print(f\"Multiplikationstabellen för {siffra}:\")\n",
    "    for i in range(mini, maxi+1):\n",
    "        n = siffra * i\n",
    "        print(f\"{siffra} x {i} = {n}\")\n",
    "print()\n",
    "\n",
    "# c)\n",
    "\n",
    "print(\"Övning 3.c)\")\n",
    "print()\n",
    "multi_list = [0, 1, 2, 3, 4, 5, 6, 7, 8, 9, 10]\n",
    "width = 4\n",
    "\n",
    "for i in multi_list:\n",
    "    print()\n",
    "    for j in multi_list:\n",
    "        x = i * multi_list[j]\n",
    "        print(f\"{x:>{width}}\", end=\"\")"
   ]
  },
  {
   "cell_type": "markdown",
   "metadata": {},
   "source": [
    "---\n",
    "## 4. Faculty (*)\n",
    "\n",
    "Use a **for** statement to compute $n!$. \n",
    "\n",
    "$n! = 1\\cdot2\\cdot3\\cdot\\ldots\\cdot(n-1)\\cdot n $\n",
    "\n",
    "Let the user input $n$. "
   ]
  },
  {
   "cell_type": "code",
   "execution_count": 3,
   "metadata": {},
   "outputs": [
    {
     "name": "stdout",
     "output_type": "stream",
     "text": [
      "6! = 720\n"
     ]
    }
   ],
   "source": [
    "n = int(input(\"Picka number: \"))\n",
    "tot = 1\n",
    "\n",
    "for i in range(1, n+1):\n",
    "    tot*= i\n",
    "print(f\"{n}! = {tot}\")"
   ]
  },
  {
   "cell_type": "markdown",
   "metadata": {},
   "source": [
    "--- \n",
    "## 5. Guess the number (*)\n",
    "\n",
    "The computer thinks of a four-digit number. Start by creating a random four-digit number. Use **for** statement to figure out a correct guess\n",
    "\n",
    "<br>\n",
    "<details>\n",
    "\n",
    "<summary>Answer </summary>\n",
    "\n",
    "e.g.\n",
    "```\n",
    "The final guess is 8993\n",
    "The computer number is 8993\n",
    "```\n",
    "\n",
    "</details>"
   ]
  },
  {
   "cell_type": "code",
   "execution_count": 93,
   "metadata": {},
   "outputs": [
    {
     "name": "stdout",
     "output_type": "stream",
     "text": [
      "The computer chose a random 8-digit PIN: 49124139\n",
      "The PIN cracking algorithm eventually took 1.684 seconds to reach 49124139\n"
     ]
    }
   ],
   "source": [
    "import random as rng\n",
    "import time\n",
    "\n",
    "minimum = 10000000\n",
    "maximum = 99999999\n",
    "number = rng.randint(minimum, maximum)\n",
    "\n",
    "start = time.process_time()\n",
    "\n",
    "for i in range(minimum, maximum + 1):\n",
    "    if i == number:\n",
    "        stop = time.process_time()\n",
    "        print(f\"The computer chose a random {len(str(number))}-digit PIN: {number}\")\n",
    "        print(f\"The PIN cracking algorithm eventually took {stop - start:.3f} seconds to reach {i}\")\n",
    "        break"
   ]
  },
  {
   "cell_type": "markdown",
   "metadata": {},
   "source": [
    "---\n",
    "## 6. Rice on chessboard (*)\n",
    "\n",
    "In first square of the chessboard there is one grain of rice, in the second square there is two grains, in the third square there is four grains and so on. How many grains are there in the whole chessboard when all squares are filled using this pattern?\n",
    "\n",
    "<img align=\"left\" src=\"../assets/chessboard.png\" width=\"300\"/>"
   ]
  },
  {
   "cell_type": "markdown",
   "metadata": {},
   "source": [
    "<details>\n",
    "\n",
    "<summary>Answer</summary>\n",
    "\n",
    "```\n",
    "18446744073709551615 number of grains\n",
    "```\n",
    "\n",
    "</details>"
   ]
  },
  {
   "cell_type": "code",
   "execution_count": 107,
   "metadata": {},
   "outputs": [
    {
     "name": "stdout",
     "output_type": "stream",
     "text": [
      "A whole chessboard full of rice would contain 18446744073709551615 grains.\n"
     ]
    }
   ],
   "source": [
    "tot_squares = 64\n",
    "rice = 1\n",
    "\n",
    "for i in range(1, tot_squares):\n",
    "    rice += 2**i\n",
    "\n",
    "print(f\"A whole chessboard full of rice would contain {rice} grains.\")"
   ]
  },
  {
   "cell_type": "markdown",
   "metadata": {},
   "source": [
    "---\n",
    "\n",
    "pr0fez Giang\n",
    "\n",
    "[LinkedIn][linkedIn_pr0fez]\n",
    "\n",
    "[GitHub portfolio][github_portfolio]\n",
    "\n",
    "[linkedIn_pr0fez]: https://www.linkedin.com/in/pr0fezgiang/\n",
    "[github_portfolio]: https://github.com/pr0fez/Portfolio-pr0fez-Giang\n",
    "\n",
    "---"
   ]
  }
 ],
 "metadata": {
  "kernelspec": {
   "display_name": "Python 3.9.6 64-bit",
   "language": "python",
   "name": "python3"
  },
  "language_info": {
   "codemirror_mode": {
    "name": "ipython",
    "version": 3
   },
   "file_extension": ".py",
   "mimetype": "text/x-python",
   "name": "python",
   "nbconvert_exporter": "python",
   "pygments_lexer": "ipython3",
   "version": "3.10.12"
  },
  "orig_nbformat": 4,
  "vscode": {
   "interpreter": {
    "hash": "0da836a34428266995a795f1e1e27b816fa1c02f148d9728b3fbbbc5459afca6"
   }
  }
 },
 "nbformat": 4,
 "nbformat_minor": 2
}
