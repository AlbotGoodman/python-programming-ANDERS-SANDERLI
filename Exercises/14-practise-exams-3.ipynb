{
 "cells": [
  {
   "cell_type": "markdown",
   "metadata": {},
   "source": [
    "# Python Programming Exam 3\n",
    "Max points: 20p\n",
    "Pass: 9p\n",
    "High Pass: 15p\n",
    "Time: 2 hours\n",
    "\n",
    "### 1. Function Arguments (4p):\n",
    "Explain what will be printed and why:\n",
    "```python\n",
    "def modify_list(lst, item=[]):\n",
    "    item.append(lst)\n",
    "    return item\n",
    "\n",
    "print(modify_list([1, 2, 3]))\n",
    "print(modify_list([4, 5, 6]))\n",
    "print(modify_list([7, 8, 9], []))\n",
    "```"
   ]
  },
  {
   "cell_type": "markdown",
   "metadata": {},
   "source": [
    "Answer: "
   ]
  },
  {
   "cell_type": "markdown",
   "metadata": {},
   "source": [
    "### 2. Decorator Implementation (5p):\n",
    "```python\n",
    "def retry(max_attempts):\n",
    "    \"\"\"\n",
    "    Create a decorator that retries a function up to max_attempts times\n",
    "    if it raises an exception. If all attempts fail, raise the last exception.\n",
    "    \"\"\"\n",
    "    pass  # Implement your solution here\n",
    "\n",
    "# Example usage:\n",
    "@retry(max_attempts=3)\n",
    "def unstable_network_call():\n",
    "    # Simulated unstable function\n",
    "    import random\n",
    "    if random.random() < 0.7:\n",
    "        raise ConnectionError(\"Network failed\")\n",
    "    return \"Success\"\n",
    "```\n",
    "\n"
   ]
  },
  {
   "cell_type": "markdown",
   "metadata": {},
   "source": [
    "Answer: "
   ]
  },
  {
   "cell_type": "markdown",
   "metadata": {},
   "source": [
    "### 3. Module Organization (4p):\n",
    "Given this directory structure:\n",
    "```\n",
    "project/\n",
    "    ├── main.py\n",
    "    ├── utils/\n",
    "    │   ├── __init__.py\n",
    "    │   ├── data_processor.py\n",
    "    │   └── helpers.py\n",
    "    └── tests/\n",
    "        ├── __init__.py\n",
    "        └── test_utils.py\n",
    "```\n",
    "a) Write the correct import statements for:\n",
    "   - Importing everything from helpers.py into data_processor.py\n",
    "   - Importing specific functions from data_processor.py into main.py\n",
    "   - Importing for testing in test_utils.py\n",
    "b) Explain the role of __init__.py files\n",
    "c) Describe best practices for organizing Python modules\n",
    "\n"
   ]
  },
  {
   "cell_type": "markdown",
   "metadata": {},
   "source": [
    "Answer: "
   ]
  },
  {
   "cell_type": "markdown",
   "metadata": {},
   "source": [
    "### 4. Context Managers (4p):\n",
    "```python\n",
    "class DatabaseConnection:\n",
    "    def __init__(self, connection_string):\n",
    "        self.connection_string = connection_string\n",
    "        \n",
    "    def connect(self):\n",
    "        print(f\"Connecting to {self.connection_string}\")\n",
    "        \n",
    "    def disconnect(self):\n",
    "        print(\"Disconnecting...\")\n",
    "        \n",
    "    # Make this class work with 'with' statements\n",
    "    # Add necessary methods here\n",
    "```\n",
    "Implement the necessary methods to make this class work as a context manager.\n",
    "Explain the benefits of using context managers.\n",
    "\n"
   ]
  },
  {
   "cell_type": "markdown",
   "metadata": {},
   "source": [
    "Answer: "
   ]
  },
  {
   "cell_type": "markdown",
   "metadata": {},
   "source": [
    "### 5. Function Composition (3p):\n",
    "Write a function composer that takes multiple functions and returns a new function that is their composition:\n",
    "```python\n",
    "def compose(*functions):\n",
    "    \"\"\"\n",
    "    Returns a new function that is the composition of the input functions.\n",
    "    Example usage:\n",
    "    def add_one(x): return x + 1\n",
    "    def multiply_by_two(x): return x * 2\n",
    "    composed = compose(add_one, multiply_by_two)\n",
    "    composed(3) should return 8 ((3 + 1) * 2)\n",
    "    \"\"\"\n",
    "    pass  # Implement your solution here\n",
    "```\n",
    "\n",
    "Remember to justify all your answers for full points. Good luck!"
   ]
  },
  {
   "cell_type": "markdown",
   "metadata": {},
   "source": [
    "Answer: "
   ]
  }
 ],
 "metadata": {
  "language_info": {
   "name": "python"
  }
 },
 "nbformat": 4,
 "nbformat_minor": 2
}
