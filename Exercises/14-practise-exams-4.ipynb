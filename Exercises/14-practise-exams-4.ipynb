{
 "cells": [
  {
   "cell_type": "markdown",
   "metadata": {},
   "source": [
    "# Python Programming Exam 4\n",
    "Max points: 20p\n",
    "Pass: 9p\n",
    "High Pass: 15p\n",
    "Time: 2 hours\n",
    "\n",
    "### 1. Class Inheritance (5p):\n",
    "```python\n",
    "class Vehicle:\n",
    "    def __init__(self, brand, model, year):\n",
    "        self.brand = brand\n",
    "        self.model = model\n",
    "        self.year = year\n",
    "        \n",
    "    def start_engine(self):\n",
    "        return \"Engine starting...\"\n",
    "\n",
    "class ElectricVehicle(Vehicle):\n",
    "    def __init__(self, brand, model, year, battery_capacity):\n",
    "        pass  # Complete the implementation\n",
    "\n",
    "    def start_engine(self):\n",
    "        pass  # Override this method\n",
    "\n",
    "    def charge(self):\n",
    "        pass  # Implement this method\n",
    "```\n",
    "Complete the ElectricVehicle class implementation. Include:\n",
    "- Proper inheritance\n",
    "- Method overriding\n",
    "- New functionality specific to electric vehicles\n",
    "- Appropriate use of super()\n",
    "\n"
   ]
  },
  {
   "cell_type": "markdown",
   "metadata": {},
   "source": [
    "Answer: "
   ]
  },
  {
   "cell_type": "markdown",
   "metadata": {},
   "source": [
    "### 2. Property Decorators (4p):\n",
    "```python\n",
    "class Temperature:\n",
    "    def __init__(self, celsius):\n",
    "        self._celsius = celsius\n",
    "        \n",
    "    # Add properties for:\n",
    "    # - celsius (getter and setter)\n",
    "    # - fahrenheit (getter and setter)\n",
    "    # Ensure that setting either value updates the other appropriately\n",
    "```\n",
    "\n"
   ]
  },
  {
   "cell_type": "markdown",
   "metadata": {},
   "source": [
    "Answer: "
   ]
  },
  {
   "cell_type": "markdown",
   "metadata": {},
   "source": [
    "### 3. Static and Class Methods (4p):\n",
    "```python\n",
    "class DateHandler:\n",
    "    date_format = \"%Y-%m-%d\"\n",
    "    \n",
    "    def __init__(self, date_string):\n",
    "        self.date = self._parse_date(date_string)\n",
    "    \n",
    "    # Implement:\n",
    "    # 1. A static method to validate date strings\n",
    "    # 2. A class method to create instance from timestamp\n",
    "    # 3. A regular method to format date to string\n",
    "```\n",
    "\n"
   ]
  },
  {
   "cell_type": "markdown",
   "metadata": {},
   "source": [
    "Answer: "
   ]
  },
  {
   "cell_type": "markdown",
   "metadata": {},
   "source": [
    "### 4. Multiple Inheritance (4p):\n",
    "```python\n",
    "class Printable:\n",
    "    def print_info(self):\n",
    "        pass  # Should print object info\n",
    "\n",
    "class Saveable:\n",
    "    def save(self):\n",
    "        pass  # Should save object to file\n",
    "\n",
    "class Document(Printable, Saveable):\n",
    "    def __init__(self, content):\n",
    "        self.content = content\n",
    "\n",
    "# Implement the classes and demonstrate:\n",
    "# - Method resolution order\n",
    "# - Diamond problem solution\n",
    "# - Super() with multiple inheritance\n",
    "```\n",
    "\n"
   ]
  },
  {
   "cell_type": "markdown",
   "metadata": {},
   "source": [
    "Answer: "
   ]
  },
  {
   "cell_type": "markdown",
   "metadata": {},
   "source": [
    "### 5. Design Patterns (3p):\n",
    "Implement a Singleton pattern for a configuration manager:\n",
    "```python\n",
    "class ConfigManager:\n",
    "    \"\"\"\n",
    "    Implement a thread-safe singleton pattern for managing application\n",
    "    configuration. Should support:\n",
    "    - Getting/setting configuration values\n",
    "    - Loading from file\n",
    "    - Saving to file\n",
    "    \"\"\"\n",
    "    pass  # Implement your solution here\n",
    "```\n",
    "\n",
    "Remember to justify all your answers for full points. Good luck!"
   ]
  },
  {
   "cell_type": "markdown",
   "metadata": {},
   "source": [
    "Answer: "
   ]
  }
 ],
 "metadata": {
  "language_info": {
   "name": "python"
  }
 },
 "nbformat": 4,
 "nbformat_minor": 2
}
