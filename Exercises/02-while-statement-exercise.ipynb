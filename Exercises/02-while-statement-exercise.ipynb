{
 "cells": [
  {
   "cell_type": "markdown",
   "metadata": {},
   "source": [
    "<a href=\"https://colab.research.google.com/github/pr0fez/AI24-Programmering/blob/master/Exercises/02-while-statement-exercise.ipynb\" target=\"_parent\"><img align=\"left\" src=\"https://colab.research.google.com/assets/colab-badge.svg\" alt=\"Open In Colab\"/></a> &nbsp; to see hints and answers."
   ]
  },
  {
   "cell_type": "markdown",
   "metadata": {},
   "source": [
    "# while statement exercises\n",
    "\n",
    "---\n",
    "These are introductory exercises in Python with focus in **while** statement.\n",
    "\n",
    "<p class = \"alert alert-info\" role=\"alert\"><b>Remember</b> to use <b>descriptive variable names</b> in order to get readable code </p>\n",
    "\n",
    "<p class = \"alert alert-info\" role=\"alert\"><b>Remember</b> to format your answers in a neat way using <b>f-strings</b>\n",
    "\n",
    "<p class = \"alert alert-info\" role=\"alert\"><b>Remember</b> to format your input questions in a pedagogical way to guide the user\n",
    "\n",
    "The number of stars (\\*), (\\*\\*), (\\*\\*\\*) denotes the difficulty level of the task\n",
    "\n",
    "---"
   ]
  },
  {
   "cell_type": "markdown",
   "metadata": {},
   "source": [
    "## 1. Count numbers (*)\n",
    "\n",
    "Use a **while** statement to count from -10 to 10 with one increment. \n",
    "\n",
    "<details>\n",
    "\n",
    "<summary>Hint </summary>\n",
    "\n",
    "```python\n",
    "\n",
    "i += 1 # adds one and assigns it to i, equivalent to i = i + 1\n",
    "```\n",
    "\n",
    "</details>\n",
    "<br>\n",
    "<details>\n",
    "\n",
    "<summary>Answer </summary>\n",
    "\n",
    "```\n",
    "\n",
    "-10 -9 -8 -7 -6 -5 -4 -3 -2 -1 0 1 2 3 4 5 6 7 8 9 10\n",
    "```\n",
    "\n",
    "</details>\n"
   ]
  },
  {
   "cell_type": "code",
   "execution_count": 10,
   "metadata": {},
   "outputs": [
    {
     "name": "stdout",
     "output_type": "stream",
     "text": [
      "-10, -9, -8, -7, -6, -5, -4, -3, -2, -1, 0, 1, 2, 3, 4, 5, 6, 7, 8, 9, 10, "
     ]
    }
   ],
   "source": [
    "c = -10\n",
    "\n",
    "while c <= 10:\n",
    "    print(c, end=\", \")\n",
    "    c += 1"
   ]
  },
  {
   "cell_type": "markdown",
   "metadata": {},
   "source": [
    "--- \n",
    "## 2. Arithmetic sum (*)\n",
    "Use a **while** statement to compute the following sums: \n",
    "\n",
    "&nbsp; a) &nbsp; $\\text{sum} = 1 + 2 + \\ldots + 99+ 100$\n",
    "\n",
    "&nbsp; b) &nbsp; $\\text{sum} = 1 + 3 + 5 + \\ldots + 97 + 99$\n",
    "\n",
    "<details>\n",
    "\n",
    "<summary>Answer </summary>\n",
    "\n",
    "```\n",
    "a) 1 + 2 + ... + 99 + 100 = 5050 \n",
    "\n",
    "b) 1 + 3 + 5 +...+ 97 + 99 = 2500\n",
    "```\n",
    "\n",
    "</details>"
   ]
  },
  {
   "cell_type": "code",
   "execution_count": 9,
   "metadata": {},
   "outputs": [
    {
     "name": "stdout",
     "output_type": "stream",
     "text": [
      "The answer to question 2.a) is 5050\n",
      "The answer to question 2.b) is 2500\n"
     ]
    }
   ],
   "source": [
    "# Question 2.a)\n",
    "\n",
    "c = 1\n",
    "total1 = 0\n",
    "\n",
    "while c <= 100:\n",
    "    total1+= c\n",
    "    c += 1\n",
    "\n",
    "print(f\"The answer to question 2.a) is {total1}\")\n",
    "\n",
    "# Question 2.b)\n",
    "\n",
    "c = 1\n",
    "total2 = 0\n",
    "\n",
    "while c <= 99:\n",
    "    total2 += c\n",
    "    c += 2\n",
    "\n",
    "print(f\"The answer to question 2.b) is {total2}\")"
   ]
  },
  {
   "cell_type": "markdown",
   "metadata": {},
   "source": [
    "--- \n",
    "## 3. Guess number game (*)\n",
    "&nbsp; a) &nbsp; Create a guessing number game following this flow chart: \n",
    "\n",
    "<img align=\"left\" src=\"../assets/guessing_game.png\" width=\"300\"/>"
   ]
  },
  {
   "cell_type": "markdown",
   "metadata": {},
   "source": [
    "&nbsp; b) &nbsp; Make an algorithm to automatically guess the correct number. Can you optimize to get as few guesses as possible? (**)\n",
    "\n",
    "<details>\n",
    "\n",
    "<summary>Hint </summary>\n",
    "\n",
    "&nbsp; b) &nbsp; Half your testing number each time \n",
    "\n",
    "</details>"
   ]
  },
  {
   "cell_type": "code",
   "execution_count": 15,
   "metadata": {},
   "outputs": [
    {
     "name": "stdout",
     "output_type": "stream",
     "text": [
      "The system will store a number between 1 and 100.\n",
      "\n",
      "Nah. The correct answer is between 11 and 55\n",
      "Nah. The correct answer is between 13 and 53\n",
      "Nah. The correct answer is between 15 and 51\n",
      "Nah. The correct answer is between 17 and 49\n",
      "Nah. The correct answer is between 19 and 47\n",
      "Nah. The correct answer is between 21 and 45\n",
      "Nah. The correct answer is between 23 and 43\n",
      "Nah. The correct answer is between 25 and 41\n",
      "Nah. The correct answer is between 27 and 39\n",
      "Nah. The correct answer is between 29 and 37\n",
      "Nah. The correct answer is between 31 and 35\n",
      "Nah. The correct answer is between 33 and 33\n",
      "Nah. The correct answer is between 35 and 31\n",
      "33 was correct! Have a great day, lucky bastard.\n"
     ]
    }
   ],
   "source": [
    "import random as rng\n",
    "\n",
    "# Question 3.a)\n",
    "\n",
    "print(\"The system will store a number between 1 and 100.\\n\")\n",
    "\n",
    "answer = rng.randint(1, 100)\n",
    "guess = 0\n",
    "min = None\n",
    "max = None\n",
    "counter = 22\n",
    "\n",
    "while guess != answer:\n",
    "    guess = int(input(\"Take a guess: \"))\n",
    "    min = answer - counter                          # perhaps we could make use of rng here as well \n",
    "    max = answer + counter\n",
    "    counter -= 2\n",
    "    if guess == answer:\n",
    "        print(f\"{guess} was correct! Have a great day, lucky bastard.\")\n",
    "        break\n",
    "    else:\n",
    "        print(f\"Nah. The correct answer is somewhere between {min} and {max}\")"
   ]
  },
  {
   "cell_type": "markdown",
   "metadata": {},
   "source": [
    "--- \n",
    "## 4. Multiplication game (*)\n",
    "&nbsp; a) &nbsp; Create a multiplication game following this flow chart: \n",
    "\n",
    "<img align=\"left\" src=\"../assets/Multiplication_game.png\" width=\"300\"/>"
   ]
  },
  {
   "cell_type": "markdown",
   "metadata": {},
   "source": [
    "&nbsp; b) &nbsp; Add a menu for choosing difficulty level of the game\n",
    "\n",
    "&nbsp; c) &nbsp; Feel free to extend this program with features of your choice."
   ]
  },
  {
   "cell_type": "markdown",
   "metadata": {},
   "source": [
    "--- \n",
    "## 5. Check convergence (**)\n",
    "Use a while statement to compute the following sums: \n",
    "\n",
    "&nbsp; a) &nbsp; $\\text{sum} = 1 + \\frac{1}{2} + \\frac{1}{4} + \\frac{1}{8} + \\dots + \\frac{1}{2^n}$\n",
    "\n",
    "&nbsp; b) &nbsp; $\\text{sum} = 1 - \\frac{1}{3} + \\frac{1}{5} - \\frac{1}{7} + \\dots + \\frac{(-1)^n}{2n+1}$\n",
    "\n",
    "Try different values on $n$ to see which value it converges to.\n",
    "\n",
    "<details>\n",
    "\n",
    "<summary>Answer </summary>\n",
    "\n",
    "&nbsp; a) &nbsp; $1 + \\frac{1}{2} + \\frac{1}{4} + \\frac{1}{8} + \\dots + \\frac{1}{2^n} \\xrightarrow[n\\rightarrow \\infty]{} 2$ \n",
    "\n",
    "&nbsp; b) &nbsp; $ 1 - \\frac{1}{3} + \\frac{1}{5} - \\frac{1}{7} + \\dots + \\frac{(-1)^n}{2n+1} \\xrightarrow[n\\rightarrow \\infty]{} \\frac{\\pi}{4}$\n",
    "\n",
    "</details>"
   ]
  },
  {
   "cell_type": "code",
   "execution_count": 4,
   "metadata": {},
   "outputs": [
    {
     "name": "stdout",
     "output_type": "stream",
     "text": [
      "Question 5.a)\n",
      "1\n",
      "1.5\n",
      "1.75\n",
      "1.875\n",
      "1.9375\n",
      "1.96875\n",
      "1.984375\n",
      "1.9921875\n",
      "1.99609375\n",
      "1.998046875\n",
      "\n",
      "Question 5.b)\n",
      "1\n",
      "0.6666666666666667\n",
      "0.8666666666666667\n",
      "0.7238095238095239\n",
      "0.8349206349206351\n",
      "0.7440115440115441\n",
      "0.8209346209346211\n",
      "0.7542679542679545\n",
      "0.8130914836797192\n"
     ]
    }
   ],
   "source": [
    "import numpy as np\n",
    "\n",
    "\n",
    "print(\"Question 5.a)\")\n",
    "\n",
    "c = 1\n",
    "i = 0\n",
    "summa = 0\n",
    "\n",
    "while i < 10:\n",
    "    summa += c\n",
    "    c /= 2 \n",
    "    i += 1\n",
    "    print(summa)\n",
    "\n",
    "\n",
    "print(\"\\nQuestion 5.b)\")\n",
    "\n",
    "taljare = 1\n",
    "namnare = 1\n",
    "produkt = 1\n",
    "counter = 1\n",
    "\n",
    "while counter < 10:\n",
    "    print(produkt)\n",
    "    namnare += 2\n",
    "    if counter % 2 == 0:\n",
    "        produkt += taljare / namnare\n",
    "    else:\n",
    "        produkt -= taljare / namnare\n",
    "    counter += 1"
   ]
  },
  {
   "cell_type": "markdown",
   "metadata": {},
   "source": [
    "---\n",
    "\n",
    "pr0fez Giang\n",
    "\n",
    "[LinkedIn][linkedIn_pr0fez]\n",
    "\n",
    "[GitHub portfolio][github_portfolio]\n",
    "\n",
    "[linkedIn_pr0fez]: https://www.linkedin.com/in/pr0fezgiang/\n",
    "[github_portfolio]: https://github.com/pr0fez/Portfolio-pr0fez-Giang\n",
    "\n",
    "---"
   ]
  }
 ],
 "metadata": {
  "kernelspec": {
   "display_name": "Python 3.9.6 64-bit",
   "language": "python",
   "name": "python3"
  },
  "language_info": {
   "codemirror_mode": {
    "name": "ipython",
    "version": 3
   },
   "file_extension": ".py",
   "mimetype": "text/x-python",
   "name": "python",
   "nbconvert_exporter": "python",
   "pygments_lexer": "ipython3",
   "version": "3.10.12"
  },
  "orig_nbformat": 4,
  "vscode": {
   "interpreter": {
    "hash": "0da836a34428266995a795f1e1e27b816fa1c02f148d9728b3fbbbc5459afca6"
   }
  }
 },
 "nbformat": 4,
 "nbformat_minor": 2
}
