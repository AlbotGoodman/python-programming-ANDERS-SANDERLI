{
 "cells": [
  {
   "cell_type": "markdown",
   "metadata": {},
   "source": [
    "# Övningstenta  \n",
    "\n",
    "## 1  Betrakta följande kod:  "
   ]
  },
  {
   "cell_type": "markdown",
   "metadata": {},
   "source": [
    "Koden är en graf där x är siffrorna 0 till 9 och y är produkten av x². Därav plottar grafen en exponentiell kurva. "
   ]
  },
  {
   "cell_type": "markdown",
   "metadata": {},
   "source": [
    "## 2 Vad skrivs ut av följande kod?  "
   ]
  },
  {
   "cell_type": "markdown",
   "metadata": {},
   "source": [
    "Det som skrivs ut av koden är strängen \"eparg\". I listan *frukter* har *grape* index 2. När då variabeln *godfrukt* tilldelas elementet med index 2 från listan är godfrukt = \"grape\".  \n",
    "\n",
    "När sedan godfrukt[-1] skrivs ut så blir det alltså variabelns sträng baklänges.  "
   ]
  },
  {
   "cell_type": "markdown",
   "metadata": {},
   "source": [
    "## 3 Följande program kraschar:"
   ]
  },
  {
   "cell_type": "markdown",
   "metadata": {},
   "source": [
    "### a) Vilken rad  ̈ar det som orsakar felet?  \n",
    "\n",
    "Rad 3 orsakar felet. \n",
    "\n",
    "### b) Ange hur A skall se ut f ̈or att producera det v antade resultatet:  \n",
    "\n",
    "A = [[\"1\", \"Alice\"], [\"2\", \"Bob\"]]  \n",
    "\n",
    "För att skriva ut ett index ur en variabel som inte enbart är en karaktär (bokstav) bör variabeln vara en lista som kan itereras över.  \n",
    "\n",
    "I ovan korrigerad variabel kan print-funktionen i koden omvandla första elementet (\"1\") till en integer, skriva ett semikolon och mellanslag därefter innan övriga element i den inre listan skrivs ut på samma rad. "
   ]
  },
  {
   "cell_type": "markdown",
   "metadata": {},
   "source": [
    "## 4 Betrakta följande program, där **my_document** är en lokal modul du inte har direkt tillgång till:  "
   ]
  },
  {
   "cell_type": "markdown",
   "metadata": {},
   "source": [
    "### a) Vad är värdet på fältet remote.source?  \n",
    "\n",
    "asd  \n",
    "\n",
    "### b) Beskriv vad programmets sufte kan tänkas vara.  \n",
    "\n",
    "asd"
   ]
  }
 ],
 "metadata": {
  "kernelspec": {
   "display_name": ".venv",
   "language": "python",
   "name": "python3"
  },
  "language_info": {
   "codemirror_mode": {
    "name": "ipython",
    "version": 3
   },
   "file_extension": ".py",
   "mimetype": "text/x-python",
   "name": "python",
   "nbconvert_exporter": "python",
   "pygments_lexer": "ipython3",
   "version": "3.10.12"
  }
 },
 "nbformat": 4,
 "nbformat_minor": 2
}
