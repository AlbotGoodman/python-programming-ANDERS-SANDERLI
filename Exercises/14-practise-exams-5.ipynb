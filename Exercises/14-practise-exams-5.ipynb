{
 "cells": [
  {
   "cell_type": "markdown",
   "metadata": {},
   "source": [
    "# Python Programming Exam 5\n",
    "Max points: 20p\n",
    "Pass: 9p\n",
    "High Pass: 15p\n",
    "Time: 2 hours\n",
    "\n",
    "### 1. Generators and Iterators (5p):\n",
    "```python\n",
    "class PrimeNumbers:\n",
    "    \"\"\"\n",
    "    Implement a class that generates prime numbers up to a given limit.\n",
    "    Must use both iterator and generator implementations.\n",
    "    Example:\n",
    "    primes = PrimeNumbers(20)\n",
    "    list(primes) → [2, 3, 5, 7, 11, 13, 17, 19]\n",
    "    \"\"\"\n",
    "    pass  # Implement your solution here\n",
    "```\n",
    "\n"
   ]
  },
  {
   "cell_type": "markdown",
   "metadata": {},
   "source": [
    "Answer: "
   ]
  },
  {
   "cell_type": "markdown",
   "metadata": {},
   "source": [
    "### 2. Asynchronous Programming (4p):\n",
    "```python\n",
    "import asyncio\n",
    "\n",
    "async def fetch_data(url):\n",
    "    \"\"\"Simulate fetching data from a URL\"\"\"\n",
    "    await asyncio.sleep(1)\n",
    "    return f\"Data from {url}\"\n",
    "\n",
    "# Implement:\n",
    "# 1. A function that fetches data from multiple URLs concurrently\n",
    "# 2. Proper error handling\n",
    "# 3. Timeout mechanism\n",
    "# 4. Progress reporting\n",
    "```\n",
    "\n"
   ]
  },
  {
   "cell_type": "markdown",
   "metadata": {},
   "source": [
    "Answer: "
   ]
  },
  {
   "cell_type": "markdown",
   "metadata": {},
   "source": [
    "### 3. Type Hints and Validation (4p):\n",
    "```python\n",
    "from typing import List, Dict, Optional, Union\n",
    "\n",
    "def process_data(\n",
    "    items: List[Dict[str, Union[str, int]]],\n",
    "    filter_key: Optional[str] = None\n",
    ") -> Dict[str, List[Union[str, int]]]:\n",
    "    \"\"\"\n",
    "    Implement a function that processes a list of dictionaries\n",
    "    according to the type hints.\n",
    "    Include runtime type checking and validation.\n",
    "    \"\"\"\n",
    "    pass  # Implement your solution here\n",
    "```\n",
    "\n"
   ]
  },
  {
   "cell_type": "markdown",
   "metadata": {},
   "source": [
    "Answer: "
   ]
  },
  {
   "cell_type": "markdown",
   "metadata": {},
   "source": [
    "### 4. Memory Management (4p):\n",
    "```python\n",
    "import sys\n",
    "import time\n",
    "\n",
    "class CacheManager:\n",
    "    \"\"\"\n",
    "    Implement a cache manager that:\n",
    "    1. Limits memory usage to a specified size\n",
    "    2. Implements LRU (Least Recently Used) eviction\n",
    "    3. Provides memory usage statistics\n",
    "    4. Uses weak references where appropriate\n",
    "    \"\"\"\n",
    "    pass  # Implement your solution here\n",
    "```\n",
    "\n"
   ]
  },
  {
   "cell_type": "markdown",
   "metadata": {},
   "source": [
    "Answer: "
   ]
  },
  {
   "cell_type": "markdown",
   "metadata": {},
   "source": [
    "### 5. Metaclasses (3p):\n",
    "```python\n",
    "class ValidateAttributes(type):\n",
    "    \"\"\"\n",
    "    Create a metaclass that:\n",
    "    1. Validates attribute types at class creation\n",
    "    2. Enforces naming conventions\n",
    "    3. Automatically logs attribute access\n",
    "    \n",
    "    Example usage:\n",
    "    class MyClass(metaclass=ValidateAttributes):\n",
    "        name: str\n",
    "        age: int\n",
    "    \"\"\"\n",
    "    pass  # Implement your solution here\n",
    "```\n",
    "\n",
    "Remember to justify all your answers for full points. Good luck!"
   ]
  },
  {
   "cell_type": "markdown",
   "metadata": {},
   "source": [
    "Answer: "
   ]
  }
 ],
 "metadata": {
  "language_info": {
   "name": "python"
  }
 },
 "nbformat": 4,
 "nbformat_minor": 2
}
