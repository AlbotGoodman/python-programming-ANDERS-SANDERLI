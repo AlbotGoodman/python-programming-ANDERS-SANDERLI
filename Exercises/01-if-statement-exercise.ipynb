{
 "cells": [
  {
   "cell_type": "markdown",
   "metadata": {},
   "source": [
    "\n",
    "<a href=\"https://colab.research.google.com/github/pr0fez/AI24-Programmering/blob/master/Exercises/01-if-statement-exercise.ipynb\" target=\"_parent\"><img align=\"left\" src=\"https://colab.research.google.com/assets/colab-badge.svg\" alt=\"Open In Colab\"/></a> &nbsp; to see hints and answers."
   ]
  },
  {
   "cell_type": "markdown",
   "metadata": {},
   "source": [
    "# if statements exercises\n",
    "\n",
    "---\n",
    "These are introductory exercises in Python with focus in **if** statement.\n",
    "\n",
    "<p class = \"alert alert-info\" role=\"alert\"><b>Remember</b> to use <b>descriptive variable names</b> in order to get readable code </p>\n",
    "\n",
    "<p class = \"alert alert-info\" role=\"alert\"><b>Remember</b> to format your answers in a neat way using <b>f-strings</b>\n",
    "\n",
    "<p class = \"alert alert-info\" role=\"alert\"><b>Remember</b> to format your input questions in a pedagogical way to guide the user\n",
    "\n",
    "The number of stars (\\*), (\\*\\*), (\\*\\*\\*) denotes the difficulty level of the task\n",
    "\n",
    "---"
   ]
  },
  {
   "cell_type": "markdown",
   "metadata": {},
   "source": [
    "## 1. Check sign (*)\n",
    "\n",
    "Ask the user to input a number and check if this number is **positive**, **negative** or **zero** and print it out."
   ]
  },
  {
   "cell_type": "code",
   "execution_count": 4,
   "metadata": {},
   "outputs": [
    {
     "name": "stdout",
     "output_type": "stream",
     "text": [
      "Your number (54) is positive.\n"
     ]
    }
   ],
   "source": [
    "user_number = int(input(\"Input any whole number, positive or negative: \"))\n",
    "\n",
    "if user_number == 0:\n",
    "    print(f\"Your number ({user_number}) is a zero.\")\n",
    "elif user_number < 0:\n",
    "    print(f\"Your number ({user_number}) is negative.\")\n",
    "else:\n",
    "    print(f\"Your number ({user_number}) is positive.\")"
   ]
  },
  {
   "cell_type": "markdown",
   "metadata": {},
   "source": [
    "---\n",
    "## 2. Smallest (*)\n",
    "Ask the user to input two numbers and check which one is the smallest and print it out.   "
   ]
  },
  {
   "cell_type": "code",
   "execution_count": 5,
   "metadata": {},
   "outputs": [
    {
     "name": "stdout",
     "output_type": "stream",
     "text": [
      "Your first input was 1.0 and your second input was 5.0\n",
      "1.0 is smaller than 5.0\n"
     ]
    }
   ],
   "source": [
    "user_number1 = float(input(\"Input any number: \"))\n",
    "user_number2 = float(input(\"Input a second number: \"))\n",
    "\n",
    "print(f\"Your first input was {user_number1} and your second input was {user_number2}\")\n",
    "\n",
    "if user_number1 > user_number2:\n",
    "    print(f\"{user_number1} is larger than {user_number2}\")\n",
    "elif user_number1 == user_number2:\n",
    "    print(f\"{user_number1} is equal to {user_number2}\")\n",
    "else:\n",
    "    print(f\"{user_number1} is smaller than {user_number2}\")"
   ]
  },
  {
   "cell_type": "markdown",
   "metadata": {},
   "source": [
    "---\n",
    "## 3. Right angle (*)\n",
    "\n",
    "Ask the user to input three angles and check if the triangle has a right angle. Your code should make sure that all three angles are valid and make up a triangle.\n",
    "\n",
    "<img align=\"left\" src=\"../assets/triangle_angles.png\" width=\"200\"/>"
   ]
  },
  {
   "cell_type": "code",
   "execution_count": 7,
   "metadata": {},
   "outputs": [
    {
     "name": "stdout",
     "output_type": "stream",
     "text": [
      "You have a right triangle.\n"
     ]
    }
   ],
   "source": [
    "angle1 = int(input(\"Input an angle of a triangle, 1 of 3: \"))\n",
    "angle2 = int(input(\"Input an angle of a triangle, 2 of 3: \"))\n",
    "angle3= int(input(\"Input an angle of a triangle, 3 of 3: \"))\n",
    "\n",
    "total = angle1 + angle2 + angle3\n",
    "\n",
    "if total == 180:\n",
    "    if angle1 or angle2 or angle3 == 90:\n",
    "        print(\"You have a right triangle.\")\n",
    "    elif angle1 or angle2 or angle3 != 90:\n",
    "        print(\"Your triangle has no right angle\")\n",
    "else:\n",
    "    print(\"Those values don't make up a valid triangle\")"
   ]
  },
  {
   "cell_type": "markdown",
   "metadata": {},
   "source": [
    "----\n",
    "## 4. Medicine (*)\n",
    "\n",
    "The information in the following table is stated in a medicine package. Also it is stated that for children weight is more important than age.\n",
    "\n",
    "<table align=\"left\">\n",
    "<thead>\n",
    "    <tr>\n",
    "        <th></th>\n",
    "        <th>Age</th>\n",
    "        <th>Number of pills</th>\n",
    "    </tr>\n",
    "</thead>\n",
    "\n",
    "<tbody>\n",
    "  <tr>\n",
    "    <td>Adults & adolescent <br>over 40 kg</td>\n",
    "    <td>over 12 years</td>\n",
    "    <td>1-2</td>\n",
    "  </tr>\n",
    "\n",
    "  <tr>\n",
    "    <td>Children 26-40 kg</td>\n",
    "    <td>7-12 years</td>\n",
    "    <td>1/2-1</td>\n",
    "  </tr>\n",
    "\n",
    "  <tr>\n",
    "    <td>Children 15-25 kg</td>\n",
    "    <td>3-7 years</td>\n",
    "    <td>1/2</td>\n",
    "  </tr>\n",
    "</tbody>\n",
    "</table>"
   ]
  },
  {
   "cell_type": "markdown",
   "metadata": {},
   "source": [
    "Let the user input an **age** and a **weight**, the program should recommend the number of pills for the user."
   ]
  },
  {
   "cell_type": "code",
   "execution_count": 8,
   "metadata": {},
   "outputs": [
    {
     "name": "stdout",
     "output_type": "stream",
     "text": [
      "Recommended dosage above 40 kg is between one and two pills.\n"
     ]
    }
   ],
   "source": [
    "# Since weight is more important than age, we will solely focus on kilograms. \n",
    "\n",
    "age = int(input(\"Input your age: \"))\n",
    "weight = float(input(\"Input your weight: \"))\n",
    "\n",
    "if weight < 15:\n",
    "    print(\"This medicine is not for children below 15 kg of weight.\")\n",
    "elif weight <= 25:\n",
    "    print(\"Your recommended dosage is half a pill.\")\n",
    "elif weight <= 40:\n",
    "    print(\"Your recommended dosage is between half a pill and one whole pill.\")\n",
    "else:\n",
    "    print(\"Recommended dosage above 40 kg is between one and two pills.\")"
   ]
  },
  {
   "cell_type": "markdown",
   "metadata": {},
   "source": [
    "---\n",
    "## 5. Divisible (*)\n",
    "Let the user input a number. Check if the number is\n",
    "<ol type=\"a\">\n",
    "  <li>even or odd</li>\n",
    "  <li>is divisible by 5</li>\n",
    "  <li>is divisble by 5 and odd</li>\n",
    "</ol> "
   ]
  },
  {
   "cell_type": "code",
   "execution_count": 6,
   "metadata": {},
   "outputs": [
    {
     "name": "stdout",
     "output_type": "stream",
     "text": [
      "-5 is an odd number which is divisible by 5.\n"
     ]
    }
   ],
   "source": [
    "number = int(input(\"Input any number: \"))\n",
    "\n",
    "if number % 2 != 0:\n",
    "    if number % 5 == 0:\n",
    "        print(f\"{number} is an odd number which is divisible by 5.\")\n",
    "    else:\n",
    "        print(f\"{number} is an odd number.\")\n",
    "else: \n",
    "    print(f\"{number} is an even number.\")"
   ]
  },
  {
   "cell_type": "markdown",
   "metadata": {},
   "source": [
    "---\n",
    "## 6. Luggage size (*)\n",
    "\n",
    "The maximum allowed luggage size for boarding an airplane is: \n",
    "- weight: 8kg\n",
    "- dimensions: 55x40x23cm (length x width x height) \n",
    "\n",
    "Let the user input weight, length, width and height of the luggage. The program should check if the luggage is allowed or not."
   ]
  },
  {
   "cell_type": "code",
   "execution_count": 14,
   "metadata": {},
   "outputs": [
    {
     "name": "stdout",
     "output_type": "stream",
     "text": [
      "\n",
      "Weight: 5 kg\n",
      "Size: \t80.0 x 25.0 x 15.0 units\n",
      "\n",
      "Your luggage is too large for onboarding, please check in your luggage instead.\n"
     ]
    }
   ],
   "source": [
    "weight = int(input(\"How much does your luggage weigh? \"))\n",
    "length = float(input(\"Specify the length of your luggage: \"))\n",
    "width = float(input(\"Specify the width of your luggage: \"))\n",
    "height = float(input(\"Specify the heoght of your luggage: \"))\n",
    "\n",
    "print(f\"\"\"\n",
    "Weight: {weight} kg\n",
    "Size: \\t{length} x {width} x {height} units\n",
    "\"\"\")\n",
    "\n",
    "if weight <= 8:\n",
    "    if (length < 55) and (width < 40) and (height < 23):\n",
    "        print(\"You're good to go, enjoy your flight.\")\n",
    "    else: \n",
    "        print(\"Your luggage is too large for onboarding, please check in your luggage instead.\")\n",
    "else:\n",
    "    print(\"You will need to check in your luggage since it's too heavy.\")"
   ]
  },
  {
   "cell_type": "markdown",
   "metadata": {},
   "source": [
    "---\n",
    "\n",
    "pr0fez Giang\n",
    "\n",
    "[LinkedIn][linkedIn_pr0fez]\n",
    "\n",
    "[GitHub portfolio][github_portfolio]\n",
    "\n",
    "[linkedIn_pr0fez]: https://www.linkedin.com/in/pr0fezgiang/\n",
    "[github_portfolio]: https://github.com/pr0fez/Portfolio-pr0fez-Giang\n",
    "\n",
    "---"
   ]
  }
 ],
 "metadata": {
  "kernelspec": {
   "display_name": "Python 3.9.6 64-bit",
   "language": "python",
   "name": "python3"
  },
  "language_info": {
   "codemirror_mode": {
    "name": "ipython",
    "version": 3
   },
   "file_extension": ".py",
   "mimetype": "text/x-python",
   "name": "python",
   "nbconvert_exporter": "python",
   "pygments_lexer": "ipython3",
   "version": "3.10.12"
  },
  "orig_nbformat": 4,
  "vscode": {
   "interpreter": {
    "hash": "0da836a34428266995a795f1e1e27b816fa1c02f148d9728b3fbbbc5459afca6"
   }
  }
 },
 "nbformat": 4,
 "nbformat_minor": 2
}
