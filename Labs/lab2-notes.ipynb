{
 "cells": [
  {
   "cell_type": "markdown",
   "metadata": {},
   "source": [
    "# Labb 2  \n",
    "\n",
    "En variant av k-nearest neighbour.  \n",
    "\n",
    "Blanda inte ihop testdatan och valideringsdatan!! Annars om du läcker data så lär algoritmen sig bara på inlärningsdatan och klarar ingen okänd data. Då blir det overfitting.  \n",
    "\n",
    "Vi säger att två punkter som är nära varandra är lika varandra. Om längden och bredden är nära varandra så är de i någon mening lika varandra. Det verkar rimligt.  \n",
    "\n",
    "Om du använder AI-verktyg ska du källhänvisa genom att påvisa vart och även vilken input. Om du använder kod från Stackoverflow så påvisa det likaså. Detta gäller inte om du inspireras av annan kod och skriver om den till din egna.  \n",
    "\n",
    "En bra kommentering är när du förklarar semantiken.  \n",
    "\n",
    "Procedurell programmering, som ett script, kommer nog göra uppgiften lättare.  \n",
    "\n"
   ]
  }
 ],
 "metadata": {
  "kernelspec": {
   "display_name": ".venv",
   "language": "python",
   "name": "python3"
  },
  "language_info": {
   "name": "python",
   "version": "3.10.12"
  }
 },
 "nbformat": 4,
 "nbformat_minor": 2
}
