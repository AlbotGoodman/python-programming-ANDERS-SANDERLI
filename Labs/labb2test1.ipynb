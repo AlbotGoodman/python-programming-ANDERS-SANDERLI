{
 "cells": [
  {
   "cell_type": "markdown",
   "metadata": {},
   "source": [
    "# Lab Two - pi(ka)  \n",
    "\n",
    "## Grunduppgift  \n",
    "\n",
    "a) Läs in datan och spara i lämplig datastruktur."
   ]
  },
  {
   "cell_type": "code",
   "execution_count": 125,
   "metadata": {},
   "outputs": [
    {
     "name": "stdout",
     "output_type": "stream",
     "text": [
      "[[21.9593845  31.23956701  0.        ]\n",
      " [23.63591632 36.46821491  1.        ]\n",
      " [17.71405642 31.44170391  0.        ]\n",
      " [21.78020032 33.21339776  1.        ]\n",
      " [25.20630553 36.55881615  1.        ]]\n"
     ]
    }
   ],
   "source": [
    "import numpy as np\n",
    "\n",
    "path_datapoints = \"/home/albot/coding/repos/python-programming-ANDERS-SANDERLI/Data/datapoints.txt\"\n",
    "\n",
    "with open(path_datapoints, \"r\") as dp\n",
    "    temp_list = []\n",
    "    lines = dp.readlines()\n",
    "    for row in lines[1:]:\n",
    "        row = row.strip().split(\", \")\n",
    "        temp_list.append(row)\n",
    "        datapoints_arr = np.array(temp_list, dtype=float)\n",
    "\n",
    "print(datapoints_arr[:5])\n",
    "\n"
   ]
  },
  {
   "cell_type": "markdown",
   "metadata": {},
   "source": [
    "b) Plotta alla punkterna (varje klass får en färg) i samma fönster. "
   ]
  },
  {
   "cell_type": "code",
   "execution_count": 122,
   "metadata": {},
   "outputs": [
    {
     "data": {
      "image/png": "[encoded data removed]",
      "text/plain": [
       "<Figure size 640x480 with 1 Axes>"
      ]
     },
     "metadata": {},
     "output_type": "display_data"
    }
   ],
   "source": [
    "import numpy as np\n",
    "import matplotlib.pyplot as plt\n",
    "\n",
    "for x, y, z in datapoints_arr:\n",
    "    if z == 0:\n",
    "        plt.scatter(x, y, color=\"black\")\n",
    "    else:\n",
    "        plt.scatter(x, y, color=\"gold\")"
   ]
  },
  {
   "cell_type": "markdown",
   "metadata": {},
   "source": [
    "c) Läs in testpunkterna."
   ]
  },
  {
   "cell_type": "markdown",
   "metadata": {},
   "source": [
    "\"Test points:\n",
    "1. (25, 32)\n",
    "2. (24.2, 31.5)\n",
    "3. (22, 34)\n",
    "4. (20.5, 34)\""
   ]
  },
  {
   "cell_type": "code",
   "execution_count": 160,
   "metadata": {},
   "outputs": [
    {
     "name": "stdout",
     "output_type": "stream",
     "text": [
      "[['(25, 32)'], '25, 32', ['(24.2, 31.5)'], '24.2, 31.5', ['(22, 34)'], '22, 34', ['(20.5, 34)'], '20.5, 34']\n"
     ]
    }
   ],
   "source": [
    "import numpy as np\n",
    "\n",
    "path_testpoints = \"/home/albot/coding/repos/python-programming-ANDERS-SANDERLI/Data/testpoints.txt\"\n",
    "\n",
    "with open(path_testpoints, \"r\") as tp:\n",
    "    temp_list = []\n",
    "    lines = tp.readlines()\n",
    "    for row in lines[1:]:\n",
    "        row = row[3:].strip().split(\") \")\n",
    "        temp_list.append(row)\n",
    "        for value in row:\n",
    "            # print(value[1:-1])\n",
    "            v = value[1:-1]                 # Försöker använda slicing för att få bort paranteser MEN DET GÅR INTE?!\n",
    "            temp_list.append(v)\n",
    "\n",
    "print(temp_list)"
   ]
  },
  {
   "cell_type": "markdown",
   "metadata": {},
   "source": [
    "d) Beräkna avstånd mellan testpunkt och träningspunkter. "
   ]
  },
  {
   "cell_type": "code",
   "execution_count": null,
   "metadata": {},
   "outputs": [],
   "source": [
    "# Euclidean distance?"
   ]
  },
  {
   "cell_type": "markdown",
   "metadata": {},
   "source": [
    "e) Klassificera som antingen Pichu eller Pikachu. "
   ]
  },
  {
   "cell_type": "code",
   "execution_count": null,
   "metadata": {},
   "outputs": [],
   "source": [
    "# ?"
   ]
  }
 ],
 "metadata": {
  "kernelspec": {
   "display_name": ".venv",
   "language": "python",
   "name": "python3"
  },
  "language_info": {
   "codemirror_mode": {
    "name": "ipython",
    "version": 3
   },
   "file_extension": ".py",
   "mimetype": "text/x-python",
   "name": "python",
   "nbconvert_exporter": "python",
   "pygments_lexer": "ipython3",
   "version": "3.10.12"
  }
 },
 "nbformat": 4,
 "nbformat_minor": 2
}
