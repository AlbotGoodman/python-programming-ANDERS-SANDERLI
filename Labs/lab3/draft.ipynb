{
 "cells": [
  {
   "cell_type": "markdown",
   "metadata": {},
   "source": [
    "# Lab 3  "
   ]
  },
  {
   "cell_type": "markdown",
   "metadata": {},
   "source": [
    "## Dependencies  "
   ]
  },
  {
   "cell_type": "code",
   "execution_count": 3,
   "metadata": {},
   "outputs": [],
   "source": [
    "import pandas as pd\n",
    "import numpy as np\n",
    "import matplotlib.pyplot as plt\n",
    "\n",
    "\n",
    "# global variables\n",
    "filename = \"unlabelled_data.csv\""
   ]
  },
  {
   "cell_type": "markdown",
   "metadata": {},
   "source": [
    "### a) Read file and scatter plot\n",
    "### b) Draw the line"
   ]
  },
  {
   "cell_type": "code",
   "execution_count": null,
   "metadata": {},
   "outputs": [],
   "source": [
    "def read_file(filename):\n",
    "    \n",
    "    df = pd.read_csv(filename, header = None)\n",
    "    df.columns = [\"x\", \"y\"]\n",
    "    \n",
    "    return df\n",
    "\n",
    "\n",
    "dataframe = read_file(filename)\n",
    "print(dataframe.iloc[1][1])\n",
    "print(dataframe)"
   ]
  },
  {
   "cell_type": "code",
   "execution_count": null,
   "metadata": {},
   "outputs": [],
   "source": [
    "def scatter_points(df):\n",
    "\n",
    "    # plot dataframe\n",
    "    plt.scatter(df[\"x\"], df[\"y\"], color = \"aquamarine\", edgecolors = \"mediumaquamarine\", label = \"data points\", linewidth = 1, s = 25, alpha = 0.75, zorder = 3)\n",
    "    plt.axis(\"equal\")\n",
    "    plt.axhline(y = 0, color = \"lightseagreen\", linewidth = 0.5, zorder = 2)\n",
    "    plt.axvline(x = 0, color = \"lightseagreen\", linewidth = 0.5, zorder = 2)\n",
    "    max_limit = max(abs(dataframe.values.min()), abs(dataframe.values.max()))   # dessa rader fick jag från Claude, behöver dubbelkollas. gör att plot center är origo\n",
    "    plt.xlim(-max_limit, max_limit)                                             # dessa rader fick jag från Claude, behöver dubbelkollas. gör att plot center är origo\n",
    "    plt.ylim(-max_limit, max_limit)                                             # dessa rader fick jag från Claude, behöver dubbelkollas. gör att plot center är origo\n",
    "    plt.title(\"A scatter plot of the dataframe\")\n",
    "    plt.xlabel(\"x-axis\")\n",
    "    plt.ylabel(\"y-axis\")\n",
    "    plt.grid(True, color=\"gainsboro\", linestyle=\"dashed\", zorder=1)\n",
    "\n",
    "    # draw line\n",
    "    k = -1\n",
    "    m = 0\n",
    "    x = np.linspace(-10, 10, 600)\n",
    "    y = k * x + m\n",
    "    plt.plot(x, y, color = \"lightseagreen\", label = (\"regression line\"))\n",
    "    plt.legend(loc = \"upper left\")\n",
    "\n",
    "    return x, y, k, m\n",
    "\n",
    "\n",
    "X, Y, K, M = scatter_points(dataframe)"
   ]
  },
  {
   "cell_type": "markdown",
   "metadata": {},
   "source": [
    "### c) Find a function"
   ]
  },
  {
   "cell_type": "markdown",
   "metadata": {},
   "source": [
    "När **dp_x** och **X** är samma, är då **dp_y** mer eller mindre än **Y**? \n",
    "\n",
    "Om **dp_y** < **Y** så är *dp* till *vänster* om linjen. \n",
    "\n",
    "Om **dp_y** > **Y** så är *dp* till *höger* om linjen. "
   ]
  },
  {
   "cell_type": "code",
   "execution_count": null,
   "metadata": {},
   "outputs": [],
   "source": [
    "line_lst = [print([float(x), float(y)]) for x, y in zip(X, Y)]"
   ]
  },
  {
   "cell_type": "code",
   "execution_count": null,
   "metadata": {},
   "outputs": [],
   "source": [
    "bool_lst = []\n",
    "for i in range(len(dataframe)):\n",
    "    temp_lst = []\n",
    "    if dataframe.iloc[i][0] < line_lst[i][0]:\n",
    "        temp_lst.append(True)\n",
    "    else:\n",
    "        temp_lst.append(False)\n",
    "    if dataframe.iloc[i][1] > line_lst[i][1]:\n",
    "        temp_lst.append(True)\n",
    "    else:\n",
    "        temp_lst.append(False)\n",
    "    print(temp_lst)\n",
    "    bool_lst.append(temp_lst)\n",
    "\n",
    "\n",
    "# for x, y in bool_lst:\n",
    "#     if x and y == True:"
   ]
  },
  {
   "cell_type": "code",
   "execution_count": null,
   "metadata": {},
   "outputs": [
    {
     "ename": "",
     "evalue": "",
     "output_type": "error",
     "traceback": [
      "\u001b[1;31mThe kernel failed to start as the Python Environment '.venv (Python 3.13.0)' is no longer available. Consider selecting another kernel or refreshing the list of Python Environments."
     ]
    }
   ],
   "source": [
    "y_lst = []\n",
    "lbl = []\n",
    "\n",
    "for i in range(len(dataframe)):\n",
    "    x = dataframe.iloc[i][0]\n",
    "    y = K * x + M\n",
    "    y_lst.append(y)\n",
    "    if dataframe.iloc[i][1] < y:\n",
    "        lbl.append(0)\n",
    "    else:\n",
    "        lbl.append(1)\n",
    "\n",
    "print(lbl)"
   ]
  },
  {
   "cell_type": "code",
   "execution_count": null,
   "metadata": {},
   "outputs": [],
   "source": [
    "def scatter_points(df):\n",
    "\n",
    "    plt.figure(figsize=(9, 9))\n",
    "    plt.gca().set_facecolor(\"azure\")\n",
    "\n",
    "    # plot dataframe\n",
    "    plt.scatter([], [], color = \"aquamarine\", edgecolors = \"lightseagreen\", label = \"lefties\", linewidth = 1, s = 50, alpha = 0.75, zorder = 3)\n",
    "    plt.scatter([], [], marker = \"H\", color = \"turquoise\", edgecolors = \"teal\", label = \"righties\", linewidth = 1, s = 50, alpha = 0.75, zorder = 3)\n",
    "\n",
    "    for i in range(len(df)):\n",
    "        if lbl[i] == 0:\n",
    "            plt.scatter(df.iloc[i][0], df.iloc[i][1], color = \"aquamarine\", edgecolors = \"lightseagreen\", linewidth = 1, s = 50, alpha = 0.75, zorder = 3)\n",
    "        if lbl[i] == 1:\n",
    "            plt.scatter(df.iloc[i][0], df.iloc[i][1], marker = \"H\", color = \"turquoise\", edgecolors = \"teal\", linewidth = 1, s = 50, alpha = 0.75, zorder = 3)\n",
    "\n",
    "    \n",
    "    plt.axis(\"equal\")\n",
    "    plt.axhline(y = 0, color = \"lightseagreen\", linewidth = 0.5, zorder = 2)\n",
    "    plt.axvline(x = 0, color = \"lightseagreen\", linewidth = 0.5, zorder = 2)\n",
    "    max_limit = max(abs(dataframe.values.min()), abs(dataframe.values.max()))   # dessa rader fick jag från Claude, behöver dubbelkollas. gör att plot center är origo\n",
    "    plt.xlim(-max_limit, max_limit)                                             # dessa rader fick jag från Claude, behöver dubbelkollas. gör att plot center är origo\n",
    "    plt.ylim(-max_limit, max_limit)                                             # dessa rader fick jag från Claude, behöver dubbelkollas. gör att plot center är origo\n",
    "    plt.title(\"A scatter plot of the dataframe\")\n",
    "    plt.xlabel(\"x-axis\")\n",
    "    plt.ylabel(\"y-axis\")\n",
    "    plt.grid(True, color=\"gainsboro\", linestyle=\"dashed\", zorder=1)\n",
    "    \n",
    "\n",
    "    # draw line\n",
    "    k = -1\n",
    "    m = 0\n",
    "    x = np.linspace(-10, 10, 600)\n",
    "    y = k * x + m\n",
    "    plt.plot(x, y, color = \"paleturquoise\", label = (\"regression line\"), linewidth = 3, zorder = 1)\n",
    "    plt.legend(loc = \"upper left\")\n",
    "\n",
    "    return x, y, k, m\n",
    "\n",
    "\n",
    "X, Y, K, M = scatter_points(dataframe)"
   ]
  },
  {
   "cell_type": "markdown",
   "metadata": {},
   "source": [
    "for i in range(len(df)):\n",
    "    if lbl[i] == 0:\n",
    "        plt.scatter(df.iloc[i][0], df.iloc[i][1], color = \"aquamarine\", edgecolors = \"mediumaquamarine\", linewidth = 1, s = 25, alpha = 0.75, zorder = 3)\n",
    "    if lbl[i] == 1:\n",
    "        plt.scatter(df.iloc[i][0], df.iloc[i][1], color = \"turquoise\", edgecolors = \"mediumaquamarine\", linewidth = 1, s = 25, alpha = 0.75, zorder = 3)"
   ]
  }
 ],
 "metadata": {
  "kernelspec": {
   "display_name": ".venv",
   "language": "python",
   "name": "python3"
  },
  "language_info": {
   "codemirror_mode": {
    "name": "ipython",
    "version": 3
   },
   "file_extension": ".py",
   "mimetype": "text/x-python",
   "name": "python",
   "nbconvert_exporter": "python",
   "pygments_lexer": "ipython3",
   "version": "3.12.7"
  }
 },
 "nbformat": 4,
 "nbformat_minor": 2
}
